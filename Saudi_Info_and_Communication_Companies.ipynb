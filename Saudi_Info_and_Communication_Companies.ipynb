{
 "cells": [
  {
   "cell_type": "markdown",
   "id": "7e9918c1-bd5d-444d-9956-ea9d04332b55",
   "metadata": {},
   "source": [
    "# Data Preprocessing:\n",
    "##### 1- Checking for missing & special values .\n",
    "##### 2- Checking for unmatched features' type.\n",
    "##### 3- Checking for data inconsistensy.\n",
    "##### 4- Checking for outliers.\n",
    "\n",
    "# Data Transformation:\n",
    "##### - Transform all Columns and Values from Arabic to English\n",
    "\n",
    "# Data Analysis:\n",
    "###### - Operating Profit correlation with all the other numerical features (✅)\n",
    "###### - Which Business Activity has the best growth rate in terms of Employee Count for all Facility Sizes? (✅)\n",
    "\n",
    "###### -  Which Business Activity has the best growth rate in terms of Operating Profit for all Facility Sizes? (✅)\n",
    "\n",
    "###### - Average Profit for all activities & Facilities Size during the years (✅)\n",
    "\n",
    "###### - Which Activity is the best for startups in terms of cost and profit? (✅)\n",
    "\n",
    "\n",
    "###### - Which activity that has the lowest operating cost and which has the highest? (✅)\n"
   ]
  },
  {
   "cell_type": "code",
   "execution_count": 1,
   "id": "d026fa95-ab01-40d2-a2e8-0d49b7b7be7b",
   "metadata": {},
   "outputs": [],
   "source": [
    "import pandas as pd \n",
    "import numpy as np\n",
    "\n",
    "import seaborn as sns \n",
    "import matplotlib.pyplot as plt\n",
    "\n",
    "import sys\n"
   ]
  },
  {
   "cell_type": "code",
   "execution_count": 2,
   "id": "7607e932-a980-4697-89bd-524d1cf97ce9",
   "metadata": {},
   "outputs": [
    {
     "name": "stdout",
     "output_type": "stream",
     "text": [
      "Requirement already satisfied: arabic-reshaper in /Users/abdulazizalharbi/opt/anaconda3/lib/python3.9/site-packages (2.1.4)\n",
      "Requirement already satisfied: python-bidi in /Users/abdulazizalharbi/opt/anaconda3/lib/python3.9/site-packages (0.4.2)\n",
      "Requirement already satisfied: future in /Users/abdulazizalharbi/opt/anaconda3/lib/python3.9/site-packages (from arabic-reshaper) (0.18.2)\n",
      "Requirement already satisfied: six in /Users/abdulazizalharbi/opt/anaconda3/lib/python3.9/site-packages (from python-bidi) (1.16.0)\n"
     ]
    }
   ],
   "source": [
    "!{sys.executable} -m pip install arabic-reshaper python-bidi"
   ]
  },
  {
   "cell_type": "code",
   "execution_count": 3,
   "id": "f8335875-056a-47fb-9905-d4c50990f50e",
   "metadata": {},
   "outputs": [],
   "source": [
    "import arabic_reshaper\n",
    "from bidi.algorithm import get_display"
   ]
  },
  {
   "cell_type": "code",
   "execution_count": 4,
   "id": "fe7dea95-befa-4d37-a32d-e010afae4e3e",
   "metadata": {},
   "outputs": [
    {
     "data": {
      "text/html": [
       "<div>\n",
       "<style scoped>\n",
       "    .dataframe tbody tr th:only-of-type {\n",
       "        vertical-align: middle;\n",
       "    }\n",
       "\n",
       "    .dataframe tbody tr th {\n",
       "        vertical-align: top;\n",
       "    }\n",
       "\n",
       "    .dataframe thead th {\n",
       "        text-align: right;\n",
       "    }\n",
       "</style>\n",
       "<table border=\"1\" class=\"dataframe\">\n",
       "  <thead>\n",
       "    <tr style=\"text-align: right;\">\n",
       "      <th></th>\n",
       "      <th>الإيرادات التشغيلية</th>\n",
       "      <th>النفقات التشغيلية</th>\n",
       "      <th>عدد الموظفين</th>\n",
       "      <th>عدد المنشآت</th>\n",
       "      <th>الأرباح التشغيلية</th>\n",
       "      <th>النشاط</th>\n",
       "      <th>العام</th>\n",
       "      <th>حجم المنشأة</th>\n",
       "    </tr>\n",
       "  </thead>\n",
       "  <tbody>\n",
       "    <tr>\n",
       "      <th>0</th>\n",
       "      <td>2036562000</td>\n",
       "      <td>934686000</td>\n",
       "      <td>3830</td>\n",
       "      <td>59</td>\n",
       "      <td>1101876000</td>\n",
       "      <td>البرمجة الحاسوبية</td>\n",
       "      <td>2010</td>\n",
       "      <td>‏20+ موظف</td>\n",
       "    </tr>\n",
       "    <tr>\n",
       "      <th>1</th>\n",
       "      <td>179833000</td>\n",
       "      <td>78242000</td>\n",
       "      <td>431</td>\n",
       "      <td>182</td>\n",
       "      <td>101591000</td>\n",
       "      <td>البرمجة الحاسوبية</td>\n",
       "      <td>2010</td>\n",
       "      <td>‏4-1 موظفين</td>\n",
       "    </tr>\n",
       "    <tr>\n",
       "      <th>2</th>\n",
       "      <td>582484000</td>\n",
       "      <td>349318000</td>\n",
       "      <td>1418</td>\n",
       "      <td>168</td>\n",
       "      <td>233166000</td>\n",
       "      <td>البرمجة الحاسوبية</td>\n",
       "      <td>2010</td>\n",
       "      <td>‏19-5 موظف</td>\n",
       "    </tr>\n",
       "    <tr>\n",
       "      <th>3</th>\n",
       "      <td>638991000</td>\n",
       "      <td>370777000</td>\n",
       "      <td>1509</td>\n",
       "      <td>179</td>\n",
       "      <td>268214000</td>\n",
       "      <td>البرمجة الحاسوبية</td>\n",
       "      <td>2011</td>\n",
       "      <td>‏19-5 موظف</td>\n",
       "    </tr>\n",
       "    <tr>\n",
       "      <th>4</th>\n",
       "      <td>2103429000</td>\n",
       "      <td>951399000</td>\n",
       "      <td>3912</td>\n",
       "      <td>60</td>\n",
       "      <td>1152030000</td>\n",
       "      <td>البرمجة الحاسوبية</td>\n",
       "      <td>2011</td>\n",
       "      <td>‏20+ موظف</td>\n",
       "    </tr>\n",
       "    <tr>\n",
       "      <th>...</th>\n",
       "      <td>...</td>\n",
       "      <td>...</td>\n",
       "      <td>...</td>\n",
       "      <td>...</td>\n",
       "      <td>...</td>\n",
       "      <td>...</td>\n",
       "      <td>...</td>\n",
       "      <td>...</td>\n",
       "    </tr>\n",
       "    <tr>\n",
       "      <th>157</th>\n",
       "      <td>4036529000</td>\n",
       "      <td>1900919000</td>\n",
       "      <td>5987</td>\n",
       "      <td>2508</td>\n",
       "      <td>2135610000</td>\n",
       "      <td>الاتصالات</td>\n",
       "      <td>2017</td>\n",
       "      <td>‏4-1 موظفين</td>\n",
       "    </tr>\n",
       "    <tr>\n",
       "      <th>158</th>\n",
       "      <td>3437552000</td>\n",
       "      <td>1485344000</td>\n",
       "      <td>5274</td>\n",
       "      <td>564</td>\n",
       "      <td>1952208000</td>\n",
       "      <td>الاتصالات</td>\n",
       "      <td>2017</td>\n",
       "      <td>‏19-5 موظف</td>\n",
       "    </tr>\n",
       "    <tr>\n",
       "      <th>159</th>\n",
       "      <td>3751302000</td>\n",
       "      <td>1592096000</td>\n",
       "      <td>7568</td>\n",
       "      <td>562</td>\n",
       "      <td>2159206000</td>\n",
       "      <td>الاتصالات</td>\n",
       "      <td>2018</td>\n",
       "      <td>‏19-5 موظف</td>\n",
       "    </tr>\n",
       "    <tr>\n",
       "      <th>160</th>\n",
       "      <td>152408012000</td>\n",
       "      <td>68885712000</td>\n",
       "      <td>186957</td>\n",
       "      <td>281</td>\n",
       "      <td>83522300000</td>\n",
       "      <td>الاتصالات</td>\n",
       "      <td>2018</td>\n",
       "      <td>‏20+ موظف</td>\n",
       "    </tr>\n",
       "    <tr>\n",
       "      <th>161</th>\n",
       "      <td>4330190000</td>\n",
       "      <td>2069613000</td>\n",
       "      <td>7497</td>\n",
       "      <td>2398</td>\n",
       "      <td>2260577000</td>\n",
       "      <td>الاتصالات</td>\n",
       "      <td>2018</td>\n",
       "      <td>‏4-1 موظفين</td>\n",
       "    </tr>\n",
       "  </tbody>\n",
       "</table>\n",
       "<p>162 rows × 8 columns</p>\n",
       "</div>"
      ],
      "text/plain": [
       "     الإيرادات التشغيلية  النفقات التشغيلية  عدد الموظفين  عدد المنشآت  \\\n",
       "0             2036562000          934686000          3830           59   \n",
       "1              179833000           78242000           431          182   \n",
       "2              582484000          349318000          1418          168   \n",
       "3              638991000          370777000          1509          179   \n",
       "4             2103429000          951399000          3912           60   \n",
       "..                   ...                ...           ...          ...   \n",
       "157           4036529000         1900919000          5987         2508   \n",
       "158           3437552000         1485344000          5274          564   \n",
       "159           3751302000         1592096000          7568          562   \n",
       "160         152408012000        68885712000        186957          281   \n",
       "161           4330190000         2069613000          7497         2398   \n",
       "\n",
       "     الأرباح التشغيلية             النشاط  العام  حجم المنشأة  \n",
       "0           1101876000  البرمجة الحاسوبية   2010    ‏20+ موظف  \n",
       "1            101591000  البرمجة الحاسوبية   2010  ‏4-1 موظفين  \n",
       "2            233166000  البرمجة الحاسوبية   2010   ‏19-5 موظف  \n",
       "3            268214000  البرمجة الحاسوبية   2011   ‏19-5 موظف  \n",
       "4           1152030000  البرمجة الحاسوبية   2011    ‏20+ موظف  \n",
       "..                 ...                ...    ...          ...  \n",
       "157         2135610000          الاتصالات   2017  ‏4-1 موظفين  \n",
       "158         1952208000          الاتصالات   2017   ‏19-5 موظف  \n",
       "159         2159206000          الاتصالات   2018   ‏19-5 موظف  \n",
       "160        83522300000          الاتصالات   2018    ‏20+ موظف  \n",
       "161         2260577000          الاتصالات   2018  ‏4-1 موظفين  \n",
       "\n",
       "[162 rows x 8 columns]"
      ]
     },
     "execution_count": 4,
     "metadata": {},
     "output_type": "execute_result"
    }
   ],
   "source": [
    "df = pd.read_csv(\"information-and-communication.csv\")\n",
    "df"
   ]
  },
  {
   "cell_type": "markdown",
   "id": "aa5e7b8f-253c-4f9c-869a-3ef9dcdd6030",
   "metadata": {},
   "source": [
    "# Data Preprocessing:"
   ]
  },
  {
   "cell_type": "markdown",
   "id": "a49d94a8-0958-425a-8cb9-10d578f5098d",
   "metadata": {},
   "source": [
    "## - Missing Values  & Special Values"
   ]
  },
  {
   "cell_type": "code",
   "execution_count": 5,
   "id": "a7782371-0393-4576-831f-ec7d4df593b5",
   "metadata": {},
   "outputs": [
    {
     "data": {
      "text/plain": [
       "الإيرادات التشغيلية    0\n",
       "النفقات التشغيلية      0\n",
       "عدد الموظفين           0\n",
       "عدد المنشآت            0\n",
       "الأرباح التشغيلية      0\n",
       "النشاط                 0\n",
       "العام                  0\n",
       "حجم المنشأة            0\n",
       "dtype: int64"
      ]
     },
     "execution_count": 5,
     "metadata": {},
     "output_type": "execute_result"
    }
   ],
   "source": [
    "df.isna().sum()"
   ]
  },
  {
   "cell_type": "markdown",
   "id": "43b92bbb-8053-4735-b43e-13623e126fdf",
   "metadata": {},
   "source": [
    "#### Result:\n",
    "##### No missing data is found"
   ]
  },
  {
   "cell_type": "code",
   "execution_count": 6,
   "id": "aa24506a-b2b7-4379-8d11-22c71bb300d7",
   "metadata": {},
   "outputs": [
    {
     "data": {
      "text/plain": [
       "array([2010, 2011, 2012, 2013, 2014, 2015, 2016, 2017, 2018])"
      ]
     },
     "execution_count": 6,
     "metadata": {},
     "output_type": "execute_result"
    }
   ],
   "source": [
    "df['العام'].unique()"
   ]
  },
  {
   "cell_type": "code",
   "execution_count": 7,
   "id": "9498e28a-45bf-400f-984d-135f94372d60",
   "metadata": {},
   "outputs": [
    {
     "data": {
      "text/plain": [
       "array(['\\u200f20+ موظف', '\\u200f4-1 موظفين', '\\u200f19-5 موظف'],\n",
       "      dtype=object)"
      ]
     },
     "execution_count": 7,
     "metadata": {},
     "output_type": "execute_result"
    }
   ],
   "source": [
    "df['حجم المنشأة'].unique()"
   ]
  },
  {
   "cell_type": "code",
   "execution_count": 8,
   "id": "8c51bc14-045b-49ce-b96f-4e2dd9c5242c",
   "metadata": {},
   "outputs": [
    {
     "data": {
      "text/plain": [
       "array(['البرمجة الحاسوبية', 'خدمات المعلومات', 'إنتاج الأفلام',\n",
       "       'البرمجة والإذاعة', 'النشر', 'الاتصالات'], dtype=object)"
      ]
     },
     "execution_count": 8,
     "metadata": {},
     "output_type": "execute_result"
    }
   ],
   "source": [
    "df['النشاط'].unique()"
   ]
  },
  {
   "cell_type": "markdown",
   "id": "1484b608-136c-4c94-b747-0d8e16fe59a0",
   "metadata": {},
   "source": [
    "## 2- Checking for unmatched features' type."
   ]
  },
  {
   "cell_type": "code",
   "execution_count": 9,
   "id": "ff6ba380-6265-4f47-828e-df263363c08a",
   "metadata": {},
   "outputs": [
    {
     "name": "stdout",
     "output_type": "stream",
     "text": [
      "<class 'pandas.core.frame.DataFrame'>\n",
      "RangeIndex: 162 entries, 0 to 161\n",
      "Data columns (total 8 columns):\n",
      " #   Column               Non-Null Count  Dtype \n",
      "---  ------               --------------  ----- \n",
      " 0   الإيرادات التشغيلية  162 non-null    int64 \n",
      " 1   النفقات التشغيلية    162 non-null    int64 \n",
      " 2   عدد الموظفين         162 non-null    int64 \n",
      " 3   عدد المنشآت          162 non-null    int64 \n",
      " 4   الأرباح التشغيلية    162 non-null    int64 \n",
      " 5   النشاط               162 non-null    object\n",
      " 6   العام                162 non-null    int64 \n",
      " 7   حجم المنشأة          162 non-null    object\n",
      "dtypes: int64(6), object(2)\n",
      "memory usage: 10.2+ KB\n"
     ]
    }
   ],
   "source": [
    "df.info()"
   ]
  },
  {
   "cell_type": "markdown",
   "id": "2b5da755-b9db-47aa-ac2e-a457e6152949",
   "metadata": {},
   "source": [
    "#### Result:\n",
    "###### All columns have the correct type"
   ]
  },
  {
   "cell_type": "markdown",
   "id": "659791b2-98d1-4e70-8398-a81ae2b0060b",
   "metadata": {},
   "source": [
    "## 3- Checking for data inconsistensy."
   ]
  },
  {
   "cell_type": "code",
   "execution_count": 10,
   "id": "97e16d2b-b848-42f8-98e5-44e5c60c674c",
   "metadata": {},
   "outputs": [
    {
     "data": {
      "text/plain": [
       "Index(['الإيرادات التشغيلية', 'النفقات التشغيلية', 'عدد الموظفين',\n",
       "       'عدد المنشآت', 'الأرباح التشغيلية', 'النشاط', 'العام', 'حجم المنشأة'],\n",
       "      dtype='object')"
      ]
     },
     "execution_count": 10,
     "metadata": {},
     "output_type": "execute_result"
    }
   ],
   "source": [
    "df.columns"
   ]
  },
  {
   "cell_type": "code",
   "execution_count": 12,
   "id": "e0a84f2f-6e8b-4f4e-9945-6bf882b799fc",
   "metadata": {},
   "outputs": [],
   "source": [
    "# For عدد الموظفين Should not be Negative\n",
    "# For النفقات التشغيلية No Constraints\n",
    "# For الإيرادات التشغيلية No Constraints\n",
    "# For حجم المنشأة Should not be numerical and values should be one of these three '\\u200f20+ موظف', '\\u200f4-1 موظفين', '\\u200f19-5 موظف'\n",
    "# For العام Should not be less than 2010 and more than 2018\n",
    "# For النشاط Should only be one of these values ['البرمجة الحاسوبية', 'خدمات المعلومات', 'إنتاج الأفلام','البرمجة والإذاعة', 'النشر', 'الاتصالات']\n",
    "# For الأرباح التشغيلية should be exactlly \n",
    "# لإيرادات التشغيلية - النفقات التشغيلية\n",
    "# For عدد المنشآت should not be 0 or less"
   ]
  },
  {
   "cell_type": "code",
   "execution_count": 13,
   "id": "eca47e78-91f0-45cf-85b4-ce1df44e130e",
   "metadata": {},
   "outputs": [
    {
     "data": {
      "text/plain": [
       "193"
      ]
     },
     "execution_count": 13,
     "metadata": {},
     "output_type": "execute_result"
    }
   ],
   "source": [
    "df['عدد الموظفين'].min()"
   ]
  },
  {
   "cell_type": "code",
   "execution_count": 14,
   "id": "097bc6e8-e7a1-47a6-8ef2-c6e61d9193e5",
   "metadata": {},
   "outputs": [
    {
     "data": {
      "text/plain": [
       "array(['\\u200f20+ موظف', '\\u200f4-1 موظفين', '\\u200f19-5 موظف'],\n",
       "      dtype=object)"
      ]
     },
     "execution_count": 14,
     "metadata": {},
     "output_type": "execute_result"
    }
   ],
   "source": [
    "df['حجم المنشأة'].unique()"
   ]
  },
  {
   "cell_type": "code",
   "execution_count": 15,
   "id": "525fc08f-3e0a-456f-af40-bc49a7239d4b",
   "metadata": {},
   "outputs": [
    {
     "data": {
      "text/plain": [
       "count     162.000000\n",
       "mean     2014.000000\n",
       "std         2.589995\n",
       "min      2010.000000\n",
       "25%      2012.000000\n",
       "50%      2014.000000\n",
       "75%      2016.000000\n",
       "max      2018.000000\n",
       "Name: العام, dtype: float64"
      ]
     },
     "execution_count": 15,
     "metadata": {},
     "output_type": "execute_result"
    }
   ],
   "source": [
    "df['العام'].describe()\n",
    "# Good min is 2010 and max is 2018"
   ]
  },
  {
   "cell_type": "code",
   "execution_count": 16,
   "id": "13800155-45f4-432f-8df4-624f3f205d22",
   "metadata": {},
   "outputs": [
    {
     "data": {
      "text/plain": [
       "array(['البرمجة الحاسوبية', 'خدمات المعلومات', 'إنتاج الأفلام',\n",
       "       'البرمجة والإذاعة', 'النشر', 'الاتصالات'], dtype=object)"
      ]
     },
     "execution_count": 16,
     "metadata": {},
     "output_type": "execute_result"
    }
   ],
   "source": [
    "df['النشاط'].unique()"
   ]
  },
  {
   "cell_type": "code",
   "execution_count": 17,
   "id": "0731f4b6-e91d-456f-8537-e5998e9bcad1",
   "metadata": {},
   "outputs": [
    {
     "data": {
      "text/plain": [
       "0"
      ]
     },
     "execution_count": 17,
     "metadata": {},
     "output_type": "execute_result"
    }
   ],
   "source": [
    "(~(df['الإيرادات التشغيلية'] - df['النفقات التشغيلية'] == df['الأرباح التشغيلية'])).sum()\n",
    "# good result is 0 using the inverter (~) which means الأرباح التشغيلية has the correct value for all rows"
   ]
  },
  {
   "cell_type": "code",
   "execution_count": 18,
   "id": "63b7ffdc-e130-44d0-be2b-c2637fd975f5",
   "metadata": {},
   "outputs": [
    {
     "data": {
      "text/plain": [
       "count     162.000000\n",
       "mean      273.351852\n",
       "std       493.534250\n",
       "min         8.000000\n",
       "25%        42.000000\n",
       "50%       142.000000\n",
       "75%       242.000000\n",
       "max      2508.000000\n",
       "Name: عدد المنشآت, dtype: float64"
      ]
     },
     "execution_count": 18,
     "metadata": {},
     "output_type": "execute_result"
    }
   ],
   "source": [
    "df['عدد المنشآت'].describe()\n",
    "# good no 0 or negative values"
   ]
  },
  {
   "cell_type": "markdown",
   "id": "d4bdae94-c2c1-49d4-90b0-7ac701d372dd",
   "metadata": {},
   "source": [
    "## 4- Checking for outliers."
   ]
  },
  {
   "cell_type": "code",
   "execution_count": 19,
   "id": "0e7aaa56-0857-4602-ae2c-93cc8f9ba72c",
   "metadata": {},
   "outputs": [],
   "source": [
    "# Outliers in this dataset is Ok which means we don't have to get rid of them\n",
    "# but it's good to know if they exist when scaling the values for the ML Model"
   ]
  },
  {
   "cell_type": "code",
   "execution_count": 20,
   "id": "f331b2e8-86d6-42d3-8ccf-9805bf061829",
   "metadata": {},
   "outputs": [
    {
     "data": {
      "text/plain": [
       "<AxesSubplot:ylabel='الإيرادات التشغيلية'>"
      ]
     },
     "execution_count": 20,
     "metadata": {},
     "output_type": "execute_result"
    },
    {
     "data": {
      "image/png": "[encoded data removed]",
      "text/plain": [
       "<Figure size 640x480 with 1 Axes>"
      ]
     },
     "metadata": {},
     "output_type": "display_data"
    }
   ],
   "source": [
    "sns.boxplot(y=df['الإيرادات التشغيلية'])"
   ]
  },
  {
   "cell_type": "code",
   "execution_count": 21,
   "id": "93c73df0-2804-4dee-a6e0-09a3dc2ff107",
   "metadata": {},
   "outputs": [],
   "source": [
    "## The Arabic letters here are not readable, so latter we will transform all arabic words to English"
   ]
  },
  {
   "cell_type": "code",
   "execution_count": 22,
   "id": "790b0907-9180-450d-8409-d9cd47277a7f",
   "metadata": {},
   "outputs": [
    {
     "data": {
      "text/plain": [
       "<AxesSubplot:ylabel='النفقات التشغيلية'>"
      ]
     },
     "execution_count": 22,
     "metadata": {},
     "output_type": "execute_result"
    },
    {
     "data": {
      "image/png": "[encoded data removed]",
      "text/plain": [
       "<Figure size 640x480 with 1 Axes>"
      ]
     },
     "metadata": {},
     "output_type": "display_data"
    }
   ],
   "source": [
    "sns.boxplot(y=df['النفقات التشغيلية'])"
   ]
  },
  {
   "cell_type": "code",
   "execution_count": 23,
   "id": "934b6047-6ae1-4b5f-957d-174d63581d87",
   "metadata": {},
   "outputs": [
    {
     "data": {
      "text/plain": [
       "<AxesSubplot:ylabel='الأرباح التشغيلية'>"
      ]
     },
     "execution_count": 23,
     "metadata": {},
     "output_type": "execute_result"
    },
    {
     "data": {
      "image/png": "[encoded data removed]",
      "text/plain": [
       "<Figure size 640x480 with 1 Axes>"
      ]
     },
     "metadata": {},
     "output_type": "display_data"
    }
   ],
   "source": [
    "sns.boxplot(y=df['الأرباح التشغيلية'])"
   ]
  },
  {
   "cell_type": "code",
   "execution_count": 24,
   "id": "78ffd4d9-6609-4918-9e06-d0103a72fc17",
   "metadata": {},
   "outputs": [
    {
     "data": {
      "text/plain": [
       "<AxesSubplot:ylabel='عدد الموظفين'>"
      ]
     },
     "execution_count": 24,
     "metadata": {},
     "output_type": "execute_result"
    },
    {
     "data": {
      "image/png": "[encoded data removed]",
      "text/plain": [
       "<Figure size 640x480 with 1 Axes>"
      ]
     },
     "metadata": {},
     "output_type": "display_data"
    }
   ],
   "source": [
    "sns.boxplot(y=df['عدد الموظفين'])"
   ]
  },
  {
   "cell_type": "code",
   "execution_count": 25,
   "id": "a4d54486-6e78-4d5f-89a7-3fd0c601d3f9",
   "metadata": {},
   "outputs": [
    {
     "data": {
      "text/plain": [
       "<AxesSubplot:ylabel='عدد المنشآت'>"
      ]
     },
     "execution_count": 25,
     "metadata": {},
     "output_type": "execute_result"
    },
    {
     "data": {
      "image/png": "[encoded data removed]",
      "text/plain": [
       "<Figure size 640x480 with 1 Axes>"
      ]
     },
     "metadata": {},
     "output_type": "display_data"
    }
   ],
   "source": [
    "sns.boxplot(y=df['عدد المنشآت'])"
   ]
  },
  {
   "cell_type": "markdown",
   "id": "472bc493-a6d3-4525-a740-4b685984f9a0",
   "metadata": {},
   "source": [
    "# Data Transformation:\n",
    "## - Transform all Columns and Values from Arabic to English"
   ]
  },
  {
   "cell_type": "code",
   "execution_count": 26,
   "id": "d7dcc56b-f192-477c-8fe8-d8fe883f422e",
   "metadata": {},
   "outputs": [],
   "source": [
    "## Translating alll column names from Arabic to English\n",
    "df.rename(columns = {'عدد الموظفين':'Employee Count', 'النفقات التشغيلية':'Operating Cost', 'الإيرادات التشغيلية':'Operating Revenue', 'حجم المنشأة': 'Facility Size', 'العام':'Year', 'النشاط': 'Activity', 'الأرباح التشغيلية': 'Operating Profit', 'عدد المنشآت': 'Facility Count'}, inplace=True)"
   ]
  },
  {
   "cell_type": "code",
   "execution_count": 27,
   "id": "7ba5e1eb-8ef3-43c5-ae61-a7e59cff21ed",
   "metadata": {},
   "outputs": [
    {
     "data": {
      "text/html": [
       "<div>\n",
       "<style scoped>\n",
       "    .dataframe tbody tr th:only-of-type {\n",
       "        vertical-align: middle;\n",
       "    }\n",
       "\n",
       "    .dataframe tbody tr th {\n",
       "        vertical-align: top;\n",
       "    }\n",
       "\n",
       "    .dataframe thead th {\n",
       "        text-align: right;\n",
       "    }\n",
       "</style>\n",
       "<table border=\"1\" class=\"dataframe\">\n",
       "  <thead>\n",
       "    <tr style=\"text-align: right;\">\n",
       "      <th></th>\n",
       "      <th>Operating Revenue</th>\n",
       "      <th>Operating Cost</th>\n",
       "      <th>Employee Count</th>\n",
       "      <th>Facility Count</th>\n",
       "      <th>Operating Profit</th>\n",
       "      <th>Activity</th>\n",
       "      <th>Year</th>\n",
       "      <th>Facility Size</th>\n",
       "    </tr>\n",
       "  </thead>\n",
       "  <tbody>\n",
       "    <tr>\n",
       "      <th>0</th>\n",
       "      <td>2036562000</td>\n",
       "      <td>934686000</td>\n",
       "      <td>3830</td>\n",
       "      <td>59</td>\n",
       "      <td>1101876000</td>\n",
       "      <td>البرمجة الحاسوبية</td>\n",
       "      <td>2010</td>\n",
       "      <td>‏20+ موظف</td>\n",
       "    </tr>\n",
       "    <tr>\n",
       "      <th>1</th>\n",
       "      <td>179833000</td>\n",
       "      <td>78242000</td>\n",
       "      <td>431</td>\n",
       "      <td>182</td>\n",
       "      <td>101591000</td>\n",
       "      <td>البرمجة الحاسوبية</td>\n",
       "      <td>2010</td>\n",
       "      <td>‏4-1 موظفين</td>\n",
       "    </tr>\n",
       "    <tr>\n",
       "      <th>2</th>\n",
       "      <td>582484000</td>\n",
       "      <td>349318000</td>\n",
       "      <td>1418</td>\n",
       "      <td>168</td>\n",
       "      <td>233166000</td>\n",
       "      <td>البرمجة الحاسوبية</td>\n",
       "      <td>2010</td>\n",
       "      <td>‏19-5 موظف</td>\n",
       "    </tr>\n",
       "    <tr>\n",
       "      <th>3</th>\n",
       "      <td>638991000</td>\n",
       "      <td>370777000</td>\n",
       "      <td>1509</td>\n",
       "      <td>179</td>\n",
       "      <td>268214000</td>\n",
       "      <td>البرمجة الحاسوبية</td>\n",
       "      <td>2011</td>\n",
       "      <td>‏19-5 موظف</td>\n",
       "    </tr>\n",
       "    <tr>\n",
       "      <th>4</th>\n",
       "      <td>2103429000</td>\n",
       "      <td>951399000</td>\n",
       "      <td>3912</td>\n",
       "      <td>60</td>\n",
       "      <td>1152030000</td>\n",
       "      <td>البرمجة الحاسوبية</td>\n",
       "      <td>2011</td>\n",
       "      <td>‏20+ موظف</td>\n",
       "    </tr>\n",
       "    <tr>\n",
       "      <th>...</th>\n",
       "      <td>...</td>\n",
       "      <td>...</td>\n",
       "      <td>...</td>\n",
       "      <td>...</td>\n",
       "      <td>...</td>\n",
       "      <td>...</td>\n",
       "      <td>...</td>\n",
       "      <td>...</td>\n",
       "    </tr>\n",
       "    <tr>\n",
       "      <th>157</th>\n",
       "      <td>4036529000</td>\n",
       "      <td>1900919000</td>\n",
       "      <td>5987</td>\n",
       "      <td>2508</td>\n",
       "      <td>2135610000</td>\n",
       "      <td>الاتصالات</td>\n",
       "      <td>2017</td>\n",
       "      <td>‏4-1 موظفين</td>\n",
       "    </tr>\n",
       "    <tr>\n",
       "      <th>158</th>\n",
       "      <td>3437552000</td>\n",
       "      <td>1485344000</td>\n",
       "      <td>5274</td>\n",
       "      <td>564</td>\n",
       "      <td>1952208000</td>\n",
       "      <td>الاتصالات</td>\n",
       "      <td>2017</td>\n",
       "      <td>‏19-5 موظف</td>\n",
       "    </tr>\n",
       "    <tr>\n",
       "      <th>159</th>\n",
       "      <td>3751302000</td>\n",
       "      <td>1592096000</td>\n",
       "      <td>7568</td>\n",
       "      <td>562</td>\n",
       "      <td>2159206000</td>\n",
       "      <td>الاتصالات</td>\n",
       "      <td>2018</td>\n",
       "      <td>‏19-5 موظف</td>\n",
       "    </tr>\n",
       "    <tr>\n",
       "      <th>160</th>\n",
       "      <td>152408012000</td>\n",
       "      <td>68885712000</td>\n",
       "      <td>186957</td>\n",
       "      <td>281</td>\n",
       "      <td>83522300000</td>\n",
       "      <td>الاتصالات</td>\n",
       "      <td>2018</td>\n",
       "      <td>‏20+ موظف</td>\n",
       "    </tr>\n",
       "    <tr>\n",
       "      <th>161</th>\n",
       "      <td>4330190000</td>\n",
       "      <td>2069613000</td>\n",
       "      <td>7497</td>\n",
       "      <td>2398</td>\n",
       "      <td>2260577000</td>\n",
       "      <td>الاتصالات</td>\n",
       "      <td>2018</td>\n",
       "      <td>‏4-1 موظفين</td>\n",
       "    </tr>\n",
       "  </tbody>\n",
       "</table>\n",
       "<p>162 rows × 8 columns</p>\n",
       "</div>"
      ],
      "text/plain": [
       "     Operating Revenue  Operating Cost  Employee Count  Facility Count  \\\n",
       "0           2036562000       934686000            3830              59   \n",
       "1            179833000        78242000             431             182   \n",
       "2            582484000       349318000            1418             168   \n",
       "3            638991000       370777000            1509             179   \n",
       "4           2103429000       951399000            3912              60   \n",
       "..                 ...             ...             ...             ...   \n",
       "157         4036529000      1900919000            5987            2508   \n",
       "158         3437552000      1485344000            5274             564   \n",
       "159         3751302000      1592096000            7568             562   \n",
       "160       152408012000     68885712000          186957             281   \n",
       "161         4330190000      2069613000            7497            2398   \n",
       "\n",
       "     Operating Profit           Activity  Year Facility Size  \n",
       "0          1101876000  البرمجة الحاسوبية  2010     ‏20+ موظف  \n",
       "1           101591000  البرمجة الحاسوبية  2010   ‏4-1 موظفين  \n",
       "2           233166000  البرمجة الحاسوبية  2010    ‏19-5 موظف  \n",
       "3           268214000  البرمجة الحاسوبية  2011    ‏19-5 موظف  \n",
       "4          1152030000  البرمجة الحاسوبية  2011     ‏20+ موظف  \n",
       "..                ...                ...   ...           ...  \n",
       "157        2135610000          الاتصالات  2017   ‏4-1 موظفين  \n",
       "158        1952208000          الاتصالات  2017    ‏19-5 موظف  \n",
       "159        2159206000          الاتصالات  2018    ‏19-5 موظف  \n",
       "160       83522300000          الاتصالات  2018     ‏20+ موظف  \n",
       "161        2260577000          الاتصالات  2018   ‏4-1 موظفين  \n",
       "\n",
       "[162 rows x 8 columns]"
      ]
     },
     "execution_count": 27,
     "metadata": {},
     "output_type": "execute_result"
    }
   ],
   "source": [
    "df"
   ]
  },
  {
   "cell_type": "code",
   "execution_count": 28,
   "id": "f9a087dc-0cbb-4e60-a766-a1c36d7e35eb",
   "metadata": {},
   "outputs": [
    {
     "data": {
      "text/html": [
       "<div>\n",
       "<style scoped>\n",
       "    .dataframe tbody tr th:only-of-type {\n",
       "        vertical-align: middle;\n",
       "    }\n",
       "\n",
       "    .dataframe tbody tr th {\n",
       "        vertical-align: top;\n",
       "    }\n",
       "\n",
       "    .dataframe thead th {\n",
       "        text-align: right;\n",
       "    }\n",
       "</style>\n",
       "<table border=\"1\" class=\"dataframe\">\n",
       "  <thead>\n",
       "    <tr style=\"text-align: right;\">\n",
       "      <th></th>\n",
       "      <th>Activity</th>\n",
       "      <th>Facility Size</th>\n",
       "      <th>Year</th>\n",
       "      <th>Facility Count</th>\n",
       "      <th>Employee Count</th>\n",
       "      <th>Operating Revenue</th>\n",
       "      <th>Operating Cost</th>\n",
       "      <th>Operating Profit</th>\n",
       "    </tr>\n",
       "  </thead>\n",
       "  <tbody>\n",
       "    <tr>\n",
       "      <th>0</th>\n",
       "      <td>البرمجة الحاسوبية</td>\n",
       "      <td>‏20+ موظف</td>\n",
       "      <td>2010</td>\n",
       "      <td>59</td>\n",
       "      <td>3830</td>\n",
       "      <td>2036562000</td>\n",
       "      <td>934686000</td>\n",
       "      <td>1101876000</td>\n",
       "    </tr>\n",
       "    <tr>\n",
       "      <th>1</th>\n",
       "      <td>البرمجة الحاسوبية</td>\n",
       "      <td>‏4-1 موظفين</td>\n",
       "      <td>2010</td>\n",
       "      <td>182</td>\n",
       "      <td>431</td>\n",
       "      <td>179833000</td>\n",
       "      <td>78242000</td>\n",
       "      <td>101591000</td>\n",
       "    </tr>\n",
       "    <tr>\n",
       "      <th>2</th>\n",
       "      <td>البرمجة الحاسوبية</td>\n",
       "      <td>‏19-5 موظف</td>\n",
       "      <td>2010</td>\n",
       "      <td>168</td>\n",
       "      <td>1418</td>\n",
       "      <td>582484000</td>\n",
       "      <td>349318000</td>\n",
       "      <td>233166000</td>\n",
       "    </tr>\n",
       "    <tr>\n",
       "      <th>3</th>\n",
       "      <td>البرمجة الحاسوبية</td>\n",
       "      <td>‏19-5 موظف</td>\n",
       "      <td>2011</td>\n",
       "      <td>179</td>\n",
       "      <td>1509</td>\n",
       "      <td>638991000</td>\n",
       "      <td>370777000</td>\n",
       "      <td>268214000</td>\n",
       "    </tr>\n",
       "    <tr>\n",
       "      <th>4</th>\n",
       "      <td>البرمجة الحاسوبية</td>\n",
       "      <td>‏20+ موظف</td>\n",
       "      <td>2011</td>\n",
       "      <td>60</td>\n",
       "      <td>3912</td>\n",
       "      <td>2103429000</td>\n",
       "      <td>951399000</td>\n",
       "      <td>1152030000</td>\n",
       "    </tr>\n",
       "    <tr>\n",
       "      <th>...</th>\n",
       "      <td>...</td>\n",
       "      <td>...</td>\n",
       "      <td>...</td>\n",
       "      <td>...</td>\n",
       "      <td>...</td>\n",
       "      <td>...</td>\n",
       "      <td>...</td>\n",
       "      <td>...</td>\n",
       "    </tr>\n",
       "    <tr>\n",
       "      <th>157</th>\n",
       "      <td>الاتصالات</td>\n",
       "      <td>‏4-1 موظفين</td>\n",
       "      <td>2017</td>\n",
       "      <td>2508</td>\n",
       "      <td>5987</td>\n",
       "      <td>4036529000</td>\n",
       "      <td>1900919000</td>\n",
       "      <td>2135610000</td>\n",
       "    </tr>\n",
       "    <tr>\n",
       "      <th>158</th>\n",
       "      <td>الاتصالات</td>\n",
       "      <td>‏19-5 موظف</td>\n",
       "      <td>2017</td>\n",
       "      <td>564</td>\n",
       "      <td>5274</td>\n",
       "      <td>3437552000</td>\n",
       "      <td>1485344000</td>\n",
       "      <td>1952208000</td>\n",
       "    </tr>\n",
       "    <tr>\n",
       "      <th>159</th>\n",
       "      <td>الاتصالات</td>\n",
       "      <td>‏19-5 موظف</td>\n",
       "      <td>2018</td>\n",
       "      <td>562</td>\n",
       "      <td>7568</td>\n",
       "      <td>3751302000</td>\n",
       "      <td>1592096000</td>\n",
       "      <td>2159206000</td>\n",
       "    </tr>\n",
       "    <tr>\n",
       "      <th>160</th>\n",
       "      <td>الاتصالات</td>\n",
       "      <td>‏20+ موظف</td>\n",
       "      <td>2018</td>\n",
       "      <td>281</td>\n",
       "      <td>186957</td>\n",
       "      <td>152408012000</td>\n",
       "      <td>68885712000</td>\n",
       "      <td>83522300000</td>\n",
       "    </tr>\n",
       "    <tr>\n",
       "      <th>161</th>\n",
       "      <td>الاتصالات</td>\n",
       "      <td>‏4-1 موظفين</td>\n",
       "      <td>2018</td>\n",
       "      <td>2398</td>\n",
       "      <td>7497</td>\n",
       "      <td>4330190000</td>\n",
       "      <td>2069613000</td>\n",
       "      <td>2260577000</td>\n",
       "    </tr>\n",
       "  </tbody>\n",
       "</table>\n",
       "<p>162 rows × 8 columns</p>\n",
       "</div>"
      ],
      "text/plain": [
       "              Activity Facility Size  Year  Facility Count  Employee Count  \\\n",
       "0    البرمجة الحاسوبية     ‏20+ موظف  2010              59            3830   \n",
       "1    البرمجة الحاسوبية   ‏4-1 موظفين  2010             182             431   \n",
       "2    البرمجة الحاسوبية    ‏19-5 موظف  2010             168            1418   \n",
       "3    البرمجة الحاسوبية    ‏19-5 موظف  2011             179            1509   \n",
       "4    البرمجة الحاسوبية     ‏20+ موظف  2011              60            3912   \n",
       "..                 ...           ...   ...             ...             ...   \n",
       "157          الاتصالات   ‏4-1 موظفين  2017            2508            5987   \n",
       "158          الاتصالات    ‏19-5 موظف  2017             564            5274   \n",
       "159          الاتصالات    ‏19-5 موظف  2018             562            7568   \n",
       "160          الاتصالات     ‏20+ موظف  2018             281          186957   \n",
       "161          الاتصالات   ‏4-1 موظفين  2018            2398            7497   \n",
       "\n",
       "     Operating Revenue  Operating Cost  Operating Profit  \n",
       "0           2036562000       934686000        1101876000  \n",
       "1            179833000        78242000         101591000  \n",
       "2            582484000       349318000         233166000  \n",
       "3            638991000       370777000         268214000  \n",
       "4           2103429000       951399000        1152030000  \n",
       "..                 ...             ...               ...  \n",
       "157         4036529000      1900919000        2135610000  \n",
       "158         3437552000      1485344000        1952208000  \n",
       "159         3751302000      1592096000        2159206000  \n",
       "160       152408012000     68885712000       83522300000  \n",
       "161         4330190000      2069613000        2260577000  \n",
       "\n",
       "[162 rows x 8 columns]"
      ]
     },
     "execution_count": 28,
     "metadata": {},
     "output_type": "execute_result"
    }
   ],
   "source": [
    "## Reording All Columns\n",
    "df = df[['Activity', 'Facility Size', 'Year', 'Facility Count', 'Employee Count', 'Operating Revenue', 'Operating Cost', 'Operating Profit']]\n",
    "df"
   ]
  },
  {
   "cell_type": "code",
   "execution_count": 29,
   "id": "c6de5f67-36e6-4821-a916-787597d3e525",
   "metadata": {},
   "outputs": [
    {
     "data": {
      "text/html": [
       "<div>\n",
       "<style scoped>\n",
       "    .dataframe tbody tr th:only-of-type {\n",
       "        vertical-align: middle;\n",
       "    }\n",
       "\n",
       "    .dataframe tbody tr th {\n",
       "        vertical-align: top;\n",
       "    }\n",
       "\n",
       "    .dataframe thead th {\n",
       "        text-align: right;\n",
       "    }\n",
       "</style>\n",
       "<table border=\"1\" class=\"dataframe\">\n",
       "  <thead>\n",
       "    <tr style=\"text-align: right;\">\n",
       "      <th></th>\n",
       "      <th>Activity</th>\n",
       "      <th>Facility Size</th>\n",
       "      <th>Year</th>\n",
       "      <th>Facility Count</th>\n",
       "      <th>Employee Count</th>\n",
       "      <th>Operating Revenue</th>\n",
       "      <th>Operating Cost</th>\n",
       "      <th>Operating Profit</th>\n",
       "    </tr>\n",
       "  </thead>\n",
       "  <tbody>\n",
       "    <tr>\n",
       "      <th>0</th>\n",
       "      <td>البرمجة الحاسوبية</td>\n",
       "      <td>Large</td>\n",
       "      <td>2010</td>\n",
       "      <td>59</td>\n",
       "      <td>3830</td>\n",
       "      <td>2036562000</td>\n",
       "      <td>934686000</td>\n",
       "      <td>1101876000</td>\n",
       "    </tr>\n",
       "    <tr>\n",
       "      <th>1</th>\n",
       "      <td>البرمجة الحاسوبية</td>\n",
       "      <td>Small</td>\n",
       "      <td>2010</td>\n",
       "      <td>182</td>\n",
       "      <td>431</td>\n",
       "      <td>179833000</td>\n",
       "      <td>78242000</td>\n",
       "      <td>101591000</td>\n",
       "    </tr>\n",
       "    <tr>\n",
       "      <th>2</th>\n",
       "      <td>البرمجة الحاسوبية</td>\n",
       "      <td>Medium</td>\n",
       "      <td>2010</td>\n",
       "      <td>168</td>\n",
       "      <td>1418</td>\n",
       "      <td>582484000</td>\n",
       "      <td>349318000</td>\n",
       "      <td>233166000</td>\n",
       "    </tr>\n",
       "    <tr>\n",
       "      <th>3</th>\n",
       "      <td>البرمجة الحاسوبية</td>\n",
       "      <td>Medium</td>\n",
       "      <td>2011</td>\n",
       "      <td>179</td>\n",
       "      <td>1509</td>\n",
       "      <td>638991000</td>\n",
       "      <td>370777000</td>\n",
       "      <td>268214000</td>\n",
       "    </tr>\n",
       "    <tr>\n",
       "      <th>4</th>\n",
       "      <td>البرمجة الحاسوبية</td>\n",
       "      <td>Large</td>\n",
       "      <td>2011</td>\n",
       "      <td>60</td>\n",
       "      <td>3912</td>\n",
       "      <td>2103429000</td>\n",
       "      <td>951399000</td>\n",
       "      <td>1152030000</td>\n",
       "    </tr>\n",
       "    <tr>\n",
       "      <th>...</th>\n",
       "      <td>...</td>\n",
       "      <td>...</td>\n",
       "      <td>...</td>\n",
       "      <td>...</td>\n",
       "      <td>...</td>\n",
       "      <td>...</td>\n",
       "      <td>...</td>\n",
       "      <td>...</td>\n",
       "    </tr>\n",
       "    <tr>\n",
       "      <th>157</th>\n",
       "      <td>الاتصالات</td>\n",
       "      <td>Small</td>\n",
       "      <td>2017</td>\n",
       "      <td>2508</td>\n",
       "      <td>5987</td>\n",
       "      <td>4036529000</td>\n",
       "      <td>1900919000</td>\n",
       "      <td>2135610000</td>\n",
       "    </tr>\n",
       "    <tr>\n",
       "      <th>158</th>\n",
       "      <td>الاتصالات</td>\n",
       "      <td>Medium</td>\n",
       "      <td>2017</td>\n",
       "      <td>564</td>\n",
       "      <td>5274</td>\n",
       "      <td>3437552000</td>\n",
       "      <td>1485344000</td>\n",
       "      <td>1952208000</td>\n",
       "    </tr>\n",
       "    <tr>\n",
       "      <th>159</th>\n",
       "      <td>الاتصالات</td>\n",
       "      <td>Medium</td>\n",
       "      <td>2018</td>\n",
       "      <td>562</td>\n",
       "      <td>7568</td>\n",
       "      <td>3751302000</td>\n",
       "      <td>1592096000</td>\n",
       "      <td>2159206000</td>\n",
       "    </tr>\n",
       "    <tr>\n",
       "      <th>160</th>\n",
       "      <td>الاتصالات</td>\n",
       "      <td>Large</td>\n",
       "      <td>2018</td>\n",
       "      <td>281</td>\n",
       "      <td>186957</td>\n",
       "      <td>152408012000</td>\n",
       "      <td>68885712000</td>\n",
       "      <td>83522300000</td>\n",
       "    </tr>\n",
       "    <tr>\n",
       "      <th>161</th>\n",
       "      <td>الاتصالات</td>\n",
       "      <td>Small</td>\n",
       "      <td>2018</td>\n",
       "      <td>2398</td>\n",
       "      <td>7497</td>\n",
       "      <td>4330190000</td>\n",
       "      <td>2069613000</td>\n",
       "      <td>2260577000</td>\n",
       "    </tr>\n",
       "  </tbody>\n",
       "</table>\n",
       "<p>162 rows × 8 columns</p>\n",
       "</div>"
      ],
      "text/plain": [
       "              Activity Facility Size  Year  Facility Count  Employee Count  \\\n",
       "0    البرمجة الحاسوبية         Large  2010              59            3830   \n",
       "1    البرمجة الحاسوبية         Small  2010             182             431   \n",
       "2    البرمجة الحاسوبية        Medium  2010             168            1418   \n",
       "3    البرمجة الحاسوبية        Medium  2011             179            1509   \n",
       "4    البرمجة الحاسوبية         Large  2011              60            3912   \n",
       "..                 ...           ...   ...             ...             ...   \n",
       "157          الاتصالات         Small  2017            2508            5987   \n",
       "158          الاتصالات        Medium  2017             564            5274   \n",
       "159          الاتصالات        Medium  2018             562            7568   \n",
       "160          الاتصالات         Large  2018             281          186957   \n",
       "161          الاتصالات         Small  2018            2398            7497   \n",
       "\n",
       "     Operating Revenue  Operating Cost  Operating Profit  \n",
       "0           2036562000       934686000        1101876000  \n",
       "1            179833000        78242000         101591000  \n",
       "2            582484000       349318000         233166000  \n",
       "3            638991000       370777000         268214000  \n",
       "4           2103429000       951399000        1152030000  \n",
       "..                 ...             ...               ...  \n",
       "157         4036529000      1900919000        2135610000  \n",
       "158         3437552000      1485344000        1952208000  \n",
       "159         3751302000      1592096000        2159206000  \n",
       "160       152408012000     68885712000       83522300000  \n",
       "161         4330190000      2069613000        2260577000  \n",
       "\n",
       "[162 rows x 8 columns]"
      ]
     },
     "execution_count": 29,
     "metadata": {},
     "output_type": "execute_result"
    }
   ],
   "source": [
    "\n",
    "## Translating facility size from '\\u200f20+ موظف', '\\u200f4-1 موظفين', '\\u200f19-5 موظف' : to 'Large' For '\\u200f20+ موظف', 'Medium' For '\\u200f19-5 موظف', and 'Small' For '\\u200f4-1 موظفين'\n",
    "\n",
    "df['Facility Size'] = df['Facility Size'].replace(['\\u200f20+ موظف', '\\u200f4-1 موظفين', '\\u200f19-5 موظف'], ['Large', 'Small', 'Medium'])\n",
    "df"
   ]
  },
  {
   "cell_type": "code",
   "execution_count": 30,
   "id": "07744a99-3071-45a1-8de8-96ecc1fb4d72",
   "metadata": {},
   "outputs": [],
   "source": [
    "## Translating Activity from Arabic to English\n",
    "df['Activity'].replace(['البرمجة الحاسوبية', 'خدمات المعلومات', 'إنتاج الأفلام', 'البرمجة والإذاعة', 'النشر', 'الاتصالات'] ,['Computer Programming', 'Information Services', 'Film Production', 'Programming and Broadcasting', 'Publishing', 'Telecommunications'], inplace=True)"
   ]
  },
  {
   "cell_type": "code",
   "execution_count": 31,
   "id": "6866844a-cd86-42a9-aa6d-902841957107",
   "metadata": {},
   "outputs": [
    {
     "data": {
      "text/html": [
       "<div>\n",
       "<style scoped>\n",
       "    .dataframe tbody tr th:only-of-type {\n",
       "        vertical-align: middle;\n",
       "    }\n",
       "\n",
       "    .dataframe tbody tr th {\n",
       "        vertical-align: top;\n",
       "    }\n",
       "\n",
       "    .dataframe thead th {\n",
       "        text-align: right;\n",
       "    }\n",
       "</style>\n",
       "<table border=\"1\" class=\"dataframe\">\n",
       "  <thead>\n",
       "    <tr style=\"text-align: right;\">\n",
       "      <th></th>\n",
       "      <th>Activity</th>\n",
       "      <th>Facility Size</th>\n",
       "      <th>Year</th>\n",
       "      <th>Facility Count</th>\n",
       "      <th>Employee Count</th>\n",
       "      <th>Operating Revenue</th>\n",
       "      <th>Operating Cost</th>\n",
       "      <th>Operating Profit</th>\n",
       "    </tr>\n",
       "  </thead>\n",
       "  <tbody>\n",
       "    <tr>\n",
       "      <th>0</th>\n",
       "      <td>Computer Programming</td>\n",
       "      <td>Large</td>\n",
       "      <td>2010</td>\n",
       "      <td>59</td>\n",
       "      <td>3830</td>\n",
       "      <td>2036562000</td>\n",
       "      <td>934686000</td>\n",
       "      <td>1101876000</td>\n",
       "    </tr>\n",
       "    <tr>\n",
       "      <th>1</th>\n",
       "      <td>Computer Programming</td>\n",
       "      <td>Small</td>\n",
       "      <td>2010</td>\n",
       "      <td>182</td>\n",
       "      <td>431</td>\n",
       "      <td>179833000</td>\n",
       "      <td>78242000</td>\n",
       "      <td>101591000</td>\n",
       "    </tr>\n",
       "    <tr>\n",
       "      <th>2</th>\n",
       "      <td>Computer Programming</td>\n",
       "      <td>Medium</td>\n",
       "      <td>2010</td>\n",
       "      <td>168</td>\n",
       "      <td>1418</td>\n",
       "      <td>582484000</td>\n",
       "      <td>349318000</td>\n",
       "      <td>233166000</td>\n",
       "    </tr>\n",
       "    <tr>\n",
       "      <th>3</th>\n",
       "      <td>Computer Programming</td>\n",
       "      <td>Medium</td>\n",
       "      <td>2011</td>\n",
       "      <td>179</td>\n",
       "      <td>1509</td>\n",
       "      <td>638991000</td>\n",
       "      <td>370777000</td>\n",
       "      <td>268214000</td>\n",
       "    </tr>\n",
       "    <tr>\n",
       "      <th>4</th>\n",
       "      <td>Computer Programming</td>\n",
       "      <td>Large</td>\n",
       "      <td>2011</td>\n",
       "      <td>60</td>\n",
       "      <td>3912</td>\n",
       "      <td>2103429000</td>\n",
       "      <td>951399000</td>\n",
       "      <td>1152030000</td>\n",
       "    </tr>\n",
       "    <tr>\n",
       "      <th>...</th>\n",
       "      <td>...</td>\n",
       "      <td>...</td>\n",
       "      <td>...</td>\n",
       "      <td>...</td>\n",
       "      <td>...</td>\n",
       "      <td>...</td>\n",
       "      <td>...</td>\n",
       "      <td>...</td>\n",
       "    </tr>\n",
       "    <tr>\n",
       "      <th>157</th>\n",
       "      <td>Telecommunications</td>\n",
       "      <td>Small</td>\n",
       "      <td>2017</td>\n",
       "      <td>2508</td>\n",
       "      <td>5987</td>\n",
       "      <td>4036529000</td>\n",
       "      <td>1900919000</td>\n",
       "      <td>2135610000</td>\n",
       "    </tr>\n",
       "    <tr>\n",
       "      <th>158</th>\n",
       "      <td>Telecommunications</td>\n",
       "      <td>Medium</td>\n",
       "      <td>2017</td>\n",
       "      <td>564</td>\n",
       "      <td>5274</td>\n",
       "      <td>3437552000</td>\n",
       "      <td>1485344000</td>\n",
       "      <td>1952208000</td>\n",
       "    </tr>\n",
       "    <tr>\n",
       "      <th>159</th>\n",
       "      <td>Telecommunications</td>\n",
       "      <td>Medium</td>\n",
       "      <td>2018</td>\n",
       "      <td>562</td>\n",
       "      <td>7568</td>\n",
       "      <td>3751302000</td>\n",
       "      <td>1592096000</td>\n",
       "      <td>2159206000</td>\n",
       "    </tr>\n",
       "    <tr>\n",
       "      <th>160</th>\n",
       "      <td>Telecommunications</td>\n",
       "      <td>Large</td>\n",
       "      <td>2018</td>\n",
       "      <td>281</td>\n",
       "      <td>186957</td>\n",
       "      <td>152408012000</td>\n",
       "      <td>68885712000</td>\n",
       "      <td>83522300000</td>\n",
       "    </tr>\n",
       "    <tr>\n",
       "      <th>161</th>\n",
       "      <td>Telecommunications</td>\n",
       "      <td>Small</td>\n",
       "      <td>2018</td>\n",
       "      <td>2398</td>\n",
       "      <td>7497</td>\n",
       "      <td>4330190000</td>\n",
       "      <td>2069613000</td>\n",
       "      <td>2260577000</td>\n",
       "    </tr>\n",
       "  </tbody>\n",
       "</table>\n",
       "<p>162 rows × 8 columns</p>\n",
       "</div>"
      ],
      "text/plain": [
       "                 Activity Facility Size  Year  Facility Count  Employee Count  \\\n",
       "0    Computer Programming         Large  2010              59            3830   \n",
       "1    Computer Programming         Small  2010             182             431   \n",
       "2    Computer Programming        Medium  2010             168            1418   \n",
       "3    Computer Programming        Medium  2011             179            1509   \n",
       "4    Computer Programming         Large  2011              60            3912   \n",
       "..                    ...           ...   ...             ...             ...   \n",
       "157    Telecommunications         Small  2017            2508            5987   \n",
       "158    Telecommunications        Medium  2017             564            5274   \n",
       "159    Telecommunications        Medium  2018             562            7568   \n",
       "160    Telecommunications         Large  2018             281          186957   \n",
       "161    Telecommunications         Small  2018            2398            7497   \n",
       "\n",
       "     Operating Revenue  Operating Cost  Operating Profit  \n",
       "0           2036562000       934686000        1101876000  \n",
       "1            179833000        78242000         101591000  \n",
       "2            582484000       349318000         233166000  \n",
       "3            638991000       370777000         268214000  \n",
       "4           2103429000       951399000        1152030000  \n",
       "..                 ...             ...               ...  \n",
       "157         4036529000      1900919000        2135610000  \n",
       "158         3437552000      1485344000        1952208000  \n",
       "159         3751302000      1592096000        2159206000  \n",
       "160       152408012000     68885712000       83522300000  \n",
       "161         4330190000      2069613000        2260577000  \n",
       "\n",
       "[162 rows x 8 columns]"
      ]
     },
     "execution_count": 31,
     "metadata": {},
     "output_type": "execute_result"
    }
   ],
   "source": [
    "df"
   ]
  },
  {
   "cell_type": "code",
   "execution_count": 32,
   "id": "e4bc7310-e0ab-42af-8d04-ddc19796c37b",
   "metadata": {},
   "outputs": [
    {
     "data": {
      "text/plain": [
       "93485666.66666667"
      ]
     },
     "execution_count": 32,
     "metadata": {},
     "output_type": "execute_result"
    }
   ],
   "source": [
    "df[(df['Activity'] == 'Computer Programming')&(df['Facility Size'] == 'Small')]['Operating Cost'].mean()"
   ]
  },
  {
   "cell_type": "markdown",
   "id": "a9c95257-62af-4698-a610-83002b1f15e0",
   "metadata": {},
   "source": [
    "# Data Analysis"
   ]
  },
  {
   "cell_type": "markdown",
   "id": "93e8cea3-1803-491c-bee0-349e2a146371",
   "metadata": {},
   "source": [
    "## - Operating Profit correlation with all the other numerical features (✅)"
   ]
  },
  {
   "cell_type": "code",
   "execution_count": 33,
   "id": "2a081dc7-c52c-4a9c-bc42-d13f5a399b48",
   "metadata": {},
   "outputs": [
    {
     "data": {
      "text/html": [
       "<div>\n",
       "<style scoped>\n",
       "    .dataframe tbody tr th:only-of-type {\n",
       "        vertical-align: middle;\n",
       "    }\n",
       "\n",
       "    .dataframe tbody tr th {\n",
       "        vertical-align: top;\n",
       "    }\n",
       "\n",
       "    .dataframe thead th {\n",
       "        text-align: right;\n",
       "    }\n",
       "</style>\n",
       "<table border=\"1\" class=\"dataframe\">\n",
       "  <thead>\n",
       "    <tr style=\"text-align: right;\">\n",
       "      <th></th>\n",
       "      <th>Year</th>\n",
       "      <th>Facility Count</th>\n",
       "      <th>Employee Count</th>\n",
       "      <th>Operating Revenue</th>\n",
       "      <th>Operating Cost</th>\n",
       "      <th>Operating Profit</th>\n",
       "    </tr>\n",
       "  </thead>\n",
       "  <tbody>\n",
       "    <tr>\n",
       "      <th>Year</th>\n",
       "      <td>1.000000</td>\n",
       "      <td>0.074461</td>\n",
       "      <td>0.122026</td>\n",
       "      <td>0.060341</td>\n",
       "      <td>0.060489</td>\n",
       "      <td>0.060161</td>\n",
       "    </tr>\n",
       "    <tr>\n",
       "      <th>Facility Count</th>\n",
       "      <td>0.074461</td>\n",
       "      <td>1.000000</td>\n",
       "      <td>0.030074</td>\n",
       "      <td>-0.000710</td>\n",
       "      <td>0.000462</td>\n",
       "      <td>-0.001706</td>\n",
       "    </tr>\n",
       "    <tr>\n",
       "      <th>Employee Count</th>\n",
       "      <td>0.122026</td>\n",
       "      <td>0.030074</td>\n",
       "      <td>1.000000</td>\n",
       "      <td>0.891377</td>\n",
       "      <td>0.887725</td>\n",
       "      <td>0.893675</td>\n",
       "    </tr>\n",
       "    <tr>\n",
       "      <th>Operating Revenue</th>\n",
       "      <td>0.060341</td>\n",
       "      <td>-0.000710</td>\n",
       "      <td>0.891377</td>\n",
       "      <td>1.000000</td>\n",
       "      <td>0.999426</td>\n",
       "      <td>0.999586</td>\n",
       "    </tr>\n",
       "    <tr>\n",
       "      <th>Operating Cost</th>\n",
       "      <td>0.060489</td>\n",
       "      <td>0.000462</td>\n",
       "      <td>0.887725</td>\n",
       "      <td>0.999426</td>\n",
       "      <td>1.000000</td>\n",
       "      <td>0.998037</td>\n",
       "    </tr>\n",
       "    <tr>\n",
       "      <th>Operating Profit</th>\n",
       "      <td>0.060161</td>\n",
       "      <td>-0.001706</td>\n",
       "      <td>0.893675</td>\n",
       "      <td>0.999586</td>\n",
       "      <td>0.998037</td>\n",
       "      <td>1.000000</td>\n",
       "    </tr>\n",
       "  </tbody>\n",
       "</table>\n",
       "</div>"
      ],
      "text/plain": [
       "                       Year  Facility Count  Employee Count  \\\n",
       "Year               1.000000        0.074461        0.122026   \n",
       "Facility Count     0.074461        1.000000        0.030074   \n",
       "Employee Count     0.122026        0.030074        1.000000   \n",
       "Operating Revenue  0.060341       -0.000710        0.891377   \n",
       "Operating Cost     0.060489        0.000462        0.887725   \n",
       "Operating Profit   0.060161       -0.001706        0.893675   \n",
       "\n",
       "                   Operating Revenue  Operating Cost  Operating Profit  \n",
       "Year                        0.060341        0.060489          0.060161  \n",
       "Facility Count             -0.000710        0.000462         -0.001706  \n",
       "Employee Count              0.891377        0.887725          0.893675  \n",
       "Operating Revenue           1.000000        0.999426          0.999586  \n",
       "Operating Cost              0.999426        1.000000          0.998037  \n",
       "Operating Profit            0.999586        0.998037          1.000000  "
      ]
     },
     "execution_count": 33,
     "metadata": {},
     "output_type": "execute_result"
    }
   ],
   "source": [
    "df.corr()"
   ]
  },
  {
   "cell_type": "markdown",
   "id": "d65146c3-de38-4082-ae6f-7797bdf14a15",
   "metadata": {},
   "source": [
    "#### Result:\n",
    "###### We can see Operating Profit has a strong positive correlation with the following:\n",
    "###### - Employee Count\n",
    "###### - Operating Revenue\n",
    "###### - Operating Cost: since Operating Profit has a positive correlation with Operating Cost\n",
    "###### that can tell us that the facilities financial management is good"
   ]
  },
  {
   "cell_type": "markdown",
   "id": "504c1b9a-081c-4895-8bfb-aa06a50b4c42",
   "metadata": {},
   "source": [
    "## - Which Business Activity has the best growth rate in terms of Employee Count for all Facility Sizes? (✅)"
   ]
  },
  {
   "cell_type": "code",
   "execution_count": 34,
   "id": "9ffbdc8a-775e-465e-90c4-d6409316dc44",
   "metadata": {},
   "outputs": [],
   "source": [
    "SmallFacilities = df[df['Facility Size'] == 'Small']\n",
    "MediumFacilities = df[df['Facility Size'] == 'Medium']\n",
    "LargeFacilities = df[df['Facility Size'] == 'Large']"
   ]
  },
  {
   "cell_type": "code",
   "execution_count": 35,
   "id": "af9aea0e-9050-4bd8-9051-e3c017a7a0a7",
   "metadata": {},
   "outputs": [],
   "source": [
    "def employeeRateOfGrowth(DataFrame):\n",
    "    dictOfActivities = {}\n",
    "    for activity in DataFrame['Activity'].unique():\n",
    "        employeesCount_2010 = DataFrame[(DataFrame['Activity'] == activity) & (DataFrame['Year'] == 2010)]['Employee Count'].values\n",
    "        employeesCount_2018 = DataFrame[(DataFrame['Activity'] == activity) & (DataFrame['Year'] == 2018)]['Employee Count'].values\n",
    "        print('-------------------------------------------------')\n",
    "        print(f'{activity} employeesCount_2010: {employeesCount_2010[0]}')\n",
    "        print(f'{activity} employeesCount_2018: {employeesCount_2018[0]}')\n",
    "        RateOfGrowth = ((employeesCount_2018 - employeesCount_2010) / (employeesCount_2010)) * 100\n",
    "        print(f'Growth Rate: %{RateOfGrowth[0]}')\n",
    "        dictOfActivities[activity] = RateOfGrowth\n",
    "        \n",
    "    return dictOfActivities"
   ]
  },
  {
   "cell_type": "code",
   "execution_count": 36,
   "id": "312ab829-f512-48ba-886b-4e909e8d16fc",
   "metadata": {},
   "outputs": [
    {
     "data": {
      "text/plain": [
       "<matplotlib.legend.Legend at 0x7fb71d7ddd30>"
      ]
     },
     "execution_count": 36,
     "metadata": {},
     "output_type": "execute_result"
    },
    {
     "data": {
      "image/png": "[encoded data removed]",
      "text/plain": [
       "<Figure size 640x480 with 1 Axes>"
      ]
     },
     "metadata": {},
     "output_type": "display_data"
    }
   ],
   "source": [
    "## For Small Facilities\n",
    "sns.lineplot(x=SmallFacilities['Year'], y=SmallFacilities['Employee Count'], hue=SmallFacilities['Activity'])\n",
    "plt.legend(bbox_to_anchor=(1.01, 1), borderaxespad=0)"
   ]
  },
  {
   "cell_type": "code",
   "execution_count": 37,
   "id": "0cbdbe0a-e90e-4e05-b8c0-f1e0dcc1f1c4",
   "metadata": {},
   "outputs": [
    {
     "name": "stdout",
     "output_type": "stream",
     "text": [
      "-------------------------------------------------\n",
      "Computer Programming employeesCount_2010: 431\n",
      "Computer Programming employeesCount_2018: 687\n",
      "Growth Rate: %59.39675174013921\n",
      "-------------------------------------------------\n",
      "Information Services employeesCount_2010: 388\n",
      "Information Services employeesCount_2018: 741\n",
      "Growth Rate: %90.97938144329896\n",
      "-------------------------------------------------\n",
      "Film Production employeesCount_2010: 249\n",
      "Film Production employeesCount_2018: 349\n",
      "Growth Rate: %40.16064257028113\n",
      "-------------------------------------------------\n",
      "Programming and Broadcasting employeesCount_2010: 451\n",
      "Programming and Broadcasting employeesCount_2018: 747\n",
      "Growth Rate: %65.6319290465632\n",
      "-------------------------------------------------\n",
      "Publishing employeesCount_2010: 648\n",
      "Publishing employeesCount_2018: 1280\n",
      "Growth Rate: %97.53086419753086\n",
      "-------------------------------------------------\n",
      "Telecommunications employeesCount_2010: 3805\n",
      "Telecommunications employeesCount_2018: 7497\n",
      "Growth Rate: %97.03022339027595\n"
     ]
    },
    {
     "data": {
      "text/plain": [
       "{'Computer Programming': array([59.39675174]),\n",
       " 'Information Services': array([90.97938144]),\n",
       " 'Film Production': array([40.16064257]),\n",
       " 'Programming and Broadcasting': array([65.63192905]),\n",
       " 'Publishing': array([97.5308642]),\n",
       " 'Telecommunications': array([97.03022339])}"
      ]
     },
     "execution_count": 37,
     "metadata": {},
     "output_type": "execute_result"
    }
   ],
   "source": [
    "employeeRateOfGrowth(SmallFacilities)"
   ]
  },
  {
   "cell_type": "markdown",
   "id": "c1549a8c-e24f-401a-a4b7-a04a77848241",
   "metadata": {
    "tags": []
   },
   "source": [
    "#### Result\n",
    "###### Small Facilities from 2010-2018\n",
    "###### Telecommunications small facilities has the highest number of employees\n",
    "###### But in terms of growth Publishing comes first with %97.53 \n",
    "###### followed by Telecommunications %97.03\n",
    "###### while Film Production lastly with %40.16 rate of growth"
   ]
  },
  {
   "cell_type": "code",
   "execution_count": 38,
   "id": "aea6fb3c-1936-45bb-bc40-a761755346a1",
   "metadata": {},
   "outputs": [
    {
     "data": {
      "text/plain": [
       "<matplotlib.legend.Legend at 0x7fb71d9a2250>"
      ]
     },
     "execution_count": 38,
     "metadata": {},
     "output_type": "execute_result"
    },
    {
     "data": {
      "image/png": "[encoded data removed]",
      "text/plain": [
       "<Figure size 640x480 with 1 Axes>"
      ]
     },
     "metadata": {},
     "output_type": "display_data"
    }
   ],
   "source": [
    "## For Medium Facilities\n",
    "sns.lineplot(x=MediumFacilities['Year'], y=MediumFacilities['Employee Count'], hue=MediumFacilities['Activity'])\n",
    "plt.legend(bbox_to_anchor=(1.01, 1), borderaxespad=0)"
   ]
  },
  {
   "cell_type": "code",
   "execution_count": 39,
   "id": "fc11ae69-2fdd-4182-a9ba-e427b1638907",
   "metadata": {},
   "outputs": [
    {
     "name": "stdout",
     "output_type": "stream",
     "text": [
      "-------------------------------------------------\n",
      "Computer Programming employeesCount_2010: 1418\n",
      "Computer Programming employeesCount_2018: 2640\n",
      "Growth Rate: %86.17771509167842\n",
      "-------------------------------------------------\n",
      "Information Services employeesCount_2010: 578\n",
      "Information Services employeesCount_2018: 1045\n",
      "Growth Rate: %80.79584775086505\n",
      "-------------------------------------------------\n",
      "Film Production employeesCount_2010: 285\n",
      "Film Production employeesCount_2018: 523\n",
      "Growth Rate: %83.50877192982456\n",
      "-------------------------------------------------\n",
      "Programming and Broadcasting employeesCount_2010: 193\n",
      "Programming and Broadcasting employeesCount_2018: 330\n",
      "Growth Rate: %70.98445595854922\n",
      "-------------------------------------------------\n",
      "Publishing employeesCount_2010: 1570\n",
      "Publishing employeesCount_2018: 3000\n",
      "Growth Rate: %91.0828025477707\n",
      "-------------------------------------------------\n",
      "Telecommunications employeesCount_2010: 3157\n",
      "Telecommunications employeesCount_2018: 7568\n",
      "Growth Rate: %139.7212543554007\n"
     ]
    },
    {
     "data": {
      "text/plain": [
       "{'Computer Programming': array([86.17771509]),\n",
       " 'Information Services': array([80.79584775]),\n",
       " 'Film Production': array([83.50877193]),\n",
       " 'Programming and Broadcasting': array([70.98445596]),\n",
       " 'Publishing': array([91.08280255]),\n",
       " 'Telecommunications': array([139.72125436])}"
      ]
     },
     "execution_count": 39,
     "metadata": {},
     "output_type": "execute_result"
    }
   ],
   "source": [
    "employeeRateOfGrowth(MediumFacilities)"
   ]
  },
  {
   "cell_type": "markdown",
   "id": "3e4a4a84-0e03-426b-a01c-52812fe7ae84",
   "metadata": {
    "tags": []
   },
   "source": [
    "#### Result\n",
    "###### Medium Facilities from 2010-2018\n",
    "###### Telecommunications medium facilities has the highest number of employees\n",
    "###### and in terms of growth Telecommunications comes first with %139.72\n",
    "###### Followed by Publishing with %91.08 growth rate\n",
    "###### while Programming and Broadcasting lastly with %70.98 rate of growth"
   ]
  },
  {
   "cell_type": "code",
   "execution_count": 40,
   "id": "364a55e4-28f1-40bd-91b2-111d42303deb",
   "metadata": {},
   "outputs": [
    {
     "data": {
      "text/plain": [
       "<matplotlib.legend.Legend at 0x7fb71d204b80>"
      ]
     },
     "execution_count": 40,
     "metadata": {},
     "output_type": "execute_result"
    },
    {
     "data": {
      "image/png": "[encoded data removed]",
      "text/plain": [
       "<Figure size 640x480 with 1 Axes>"
      ]
     },
     "metadata": {},
     "output_type": "display_data"
    }
   ],
   "source": [
    "## For Large Facilities\n",
    "sns.lineplot(x=LargeFacilities['Year'], y=LargeFacilities['Employee Count'], hue=LargeFacilities['Activity'])\n",
    "plt.legend(bbox_to_anchor=(1.01, 1), borderaxespad=0)"
   ]
  },
  {
   "cell_type": "code",
   "execution_count": 41,
   "id": "9d584b2f-a3cf-4e79-9fbc-b23491417ece",
   "metadata": {},
   "outputs": [
    {
     "name": "stdout",
     "output_type": "stream",
     "text": [
      "-------------------------------------------------\n",
      "Computer Programming employeesCount_2010: 3830\n",
      "Computer Programming employeesCount_2018: 7256\n",
      "Growth Rate: %89.45169712793734\n",
      "-------------------------------------------------\n",
      "Information Services employeesCount_2010: 950\n",
      "Information Services employeesCount_2018: 2036\n",
      "Growth Rate: %114.31578947368422\n",
      "-------------------------------------------------\n",
      "Film Production employeesCount_2010: 396\n",
      "Film Production employeesCount_2018: 892\n",
      "Growth Rate: %125.25252525252526\n",
      "-------------------------------------------------\n",
      "Programming and Broadcasting employeesCount_2010: 408\n",
      "Programming and Broadcasting employeesCount_2018: 798\n",
      "Growth Rate: %95.58823529411765\n",
      "-------------------------------------------------\n",
      "Publishing employeesCount_2010: 6750\n",
      "Publishing employeesCount_2018: 16111\n",
      "Growth Rate: %138.68148148148148\n",
      "-------------------------------------------------\n",
      "Telecommunications employeesCount_2010: 37663\n",
      "Telecommunications employeesCount_2018: 186957\n",
      "Growth Rate: %396.3943392719645\n"
     ]
    },
    {
     "data": {
      "text/plain": [
       "{'Computer Programming': array([89.45169713]),\n",
       " 'Information Services': array([114.31578947]),\n",
       " 'Film Production': array([125.25252525]),\n",
       " 'Programming and Broadcasting': array([95.58823529]),\n",
       " 'Publishing': array([138.68148148]),\n",
       " 'Telecommunications': array([396.39433927])}"
      ]
     },
     "execution_count": 41,
     "metadata": {},
     "output_type": "execute_result"
    }
   ],
   "source": [
    "employeeRateOfGrowth(LargeFacilities)"
   ]
  },
  {
   "cell_type": "markdown",
   "id": "dd4e17dc-ebba-4d12-849a-6184ff0bc15f",
   "metadata": {},
   "source": [
    "#### Result\n",
    "###### Large Facilities from 2010-2018\n",
    "###### Telecommunications large facilities has the highest number of employees\n",
    "###### and in terms of growth Telecommunications comes first with %396.39\n",
    "###### Followed by Publishing with %138.68 growth rate\n",
    "###### while Computer Programming lastly with %89.45 rate of growth"
   ]
  },
  {
   "cell_type": "markdown",
   "id": "a16e155f-8ca5-4325-b3ff-b8ad3dae1fbd",
   "metadata": {},
   "source": [
    "## - Which Business Activity has the best growth rate in terms of Operating Profit for all Facility Sizes?  (✅)"
   ]
  },
  {
   "cell_type": "code",
   "execution_count": 42,
   "id": "a9fdb9a5-a823-45cb-8902-aa6feaec84cb",
   "metadata": {},
   "outputs": [],
   "source": [
    "def ProfitGrowthRate(DataFrame):\n",
    "    dictOfActivities = {}\n",
    "    for activity in DataFrame['Activity'].unique():\n",
    "        Profit_2010 = DataFrame[(DataFrame['Activity'] == activity) & (DataFrame['Year'] == 2010)]['Operating Profit'].values\n",
    "        Profit_2018 = DataFrame[(DataFrame['Activity'] == activity) & (DataFrame['Year'] == 2018)]['Operating Profit'].values\n",
    "        print('-------------------------------------------------')\n",
    "        print(f'{activity} Profit_2010: {Profit_2010[0]}')\n",
    "        print(f'{activity} Profit_2018: {Profit_2018[0]}')\n",
    "        RateOfGrowth = ((Profit_2018 - Profit_2010) / (Profit_2010)) * 100\n",
    "        print(f'Growth Rate: %{RateOfGrowth[0]}')\n",
    "        dictOfActivities[activity] = RateOfGrowth\n",
    "        \n",
    "    return dictOfActivities"
   ]
  },
  {
   "cell_type": "code",
   "execution_count": 43,
   "id": "c310aa98-83f3-418b-8ff1-ca0a5179b078",
   "metadata": {},
   "outputs": [
    {
     "data": {
      "text/plain": [
       "<matplotlib.legend.Legend at 0x7fb71dfccee0>"
      ]
     },
     "execution_count": 43,
     "metadata": {},
     "output_type": "execute_result"
    },
    {
     "data": {
      "image/png": "[encoded data removed]",
      "text/plain": [
       "<Figure size 640x480 with 1 Axes>"
      ]
     },
     "metadata": {},
     "output_type": "display_data"
    }
   ],
   "source": [
    "sns.lineplot(x=SmallFacilities['Year'], y=SmallFacilities['Operating Profit'], hue=SmallFacilities['Activity'])\n",
    "plt.legend(bbox_to_anchor=(1.01, 1), borderaxespad=0)"
   ]
  },
  {
   "cell_type": "code",
   "execution_count": 44,
   "id": "0d46c8fb-ead8-423a-806c-78176b172dfd",
   "metadata": {},
   "outputs": [
    {
     "name": "stdout",
     "output_type": "stream",
     "text": [
      "-------------------------------------------------\n",
      "Computer Programming Profit_2010: 101591000\n",
      "Computer Programming Profit_2018: 172921000\n",
      "Growth Rate: %70.21291256115208\n",
      "-------------------------------------------------\n",
      "Information Services Profit_2010: 17766000\n",
      "Information Services Profit_2018: 27268000\n",
      "Growth Rate: %53.484183271417315\n",
      "-------------------------------------------------\n",
      "Film Production Profit_2010: 14042000\n",
      "Film Production Profit_2018: 27118000\n",
      "Growth Rate: %93.12063808574277\n",
      "-------------------------------------------------\n",
      "Programming and Broadcasting Profit_2010: 21997000\n",
      "Programming and Broadcasting Profit_2018: 43295000\n",
      "Growth Rate: %96.82229394917489\n",
      "-------------------------------------------------\n",
      "Publishing Profit_2010: 55695000\n",
      "Publishing Profit_2018: 106163000\n",
      "Growth Rate: %90.61495645928719\n",
      "-------------------------------------------------\n",
      "Telecommunications Profit_2010: 1049189000\n",
      "Telecommunications Profit_2018: 2260577000\n",
      "Growth Rate: %115.45946440536451\n"
     ]
    },
    {
     "data": {
      "text/plain": [
       "{'Computer Programming': array([70.21291256]),\n",
       " 'Information Services': array([53.48418327]),\n",
       " 'Film Production': array([93.12063809]),\n",
       " 'Programming and Broadcasting': array([96.82229395]),\n",
       " 'Publishing': array([90.61495646]),\n",
       " 'Telecommunications': array([115.45946441])}"
      ]
     },
     "execution_count": 44,
     "metadata": {},
     "output_type": "execute_result"
    }
   ],
   "source": [
    "ProfitGrowthRate(SmallFacilities)"
   ]
  },
  {
   "cell_type": "markdown",
   "id": "bb4e92db-a9c2-4910-937d-9d2e265c81e8",
   "metadata": {},
   "source": [
    "#### Result:\n",
    "###### For Small Facilities\n",
    "###### We can see Telecommunications has the highest growth rate in terms of profit from 2010-2018 with %115.45 growth \n",
    "###### followed by Programming and Broadcasting %96.822 growth\n",
    "###### and lastly Information Services with %53.48 in growth"
   ]
  },
  {
   "cell_type": "code",
   "execution_count": 45,
   "id": "76a9eb88-1002-4206-a6a6-771076c90959",
   "metadata": {},
   "outputs": [
    {
     "data": {
      "text/plain": [
       "<matplotlib.legend.Legend at 0x7fb71e3a7340>"
      ]
     },
     "execution_count": 45,
     "metadata": {},
     "output_type": "execute_result"
    },
    {
     "data": {
      "image/png": "[encoded data removed]",
      "text/plain": [
       "<Figure size 640x480 with 1 Axes>"
      ]
     },
     "metadata": {},
     "output_type": "display_data"
    }
   ],
   "source": [
    "sns.lineplot(x=MediumFacilities['Year'], y=MediumFacilities['Operating Profit'], hue=MediumFacilities['Activity'])\n",
    "plt.legend(bbox_to_anchor=(1.01, 1), borderaxespad=0)"
   ]
  },
  {
   "cell_type": "code",
   "execution_count": 46,
   "id": "2fabec77-b88d-4d06-aee6-ded651e8a557",
   "metadata": {},
   "outputs": [
    {
     "name": "stdout",
     "output_type": "stream",
     "text": [
      "-------------------------------------------------\n",
      "Computer Programming Profit_2010: 233166000\n",
      "Computer Programming Profit_2018: 464704000\n",
      "Growth Rate: %99.30178499438168\n",
      "-------------------------------------------------\n",
      "Information Services Profit_2010: 31978000\n",
      "Information Services Profit_2018: 48178000\n",
      "Growth Rate: %50.65982863218462\n",
      "-------------------------------------------------\n",
      "Film Production Profit_2010: 13912000\n",
      "Film Production Profit_2018: 30080000\n",
      "Growth Rate: %116.21621621621621\n",
      "-------------------------------------------------\n",
      "Programming and Broadcasting Profit_2010: 17672000\n",
      "Programming and Broadcasting Profit_2018: 31671000\n",
      "Growth Rate: %79.21570846536895\n",
      "-------------------------------------------------\n",
      "Publishing Profit_2010: 76138000\n",
      "Publishing Profit_2018: 155344000\n",
      "Growth Rate: %104.02952533557487\n",
      "-------------------------------------------------\n",
      "Telecommunications Profit_2010: 958932000\n",
      "Telecommunications Profit_2018: 2159206000\n",
      "Growth Rate: %125.16779083396945\n"
     ]
    },
    {
     "data": {
      "text/plain": [
       "{'Computer Programming': array([99.30178499]),\n",
       " 'Information Services': array([50.65982863]),\n",
       " 'Film Production': array([116.21621622]),\n",
       " 'Programming and Broadcasting': array([79.21570847]),\n",
       " 'Publishing': array([104.02952534]),\n",
       " 'Telecommunications': array([125.16779083])}"
      ]
     },
     "execution_count": 46,
     "metadata": {},
     "output_type": "execute_result"
    }
   ],
   "source": [
    "ProfitGrowthRate(MediumFacilities)"
   ]
  },
  {
   "cell_type": "markdown",
   "id": "5cc9bc88-52a0-4195-aca8-4c02dd1c8b99",
   "metadata": {},
   "source": [
    "#### Result:\n",
    "###### For Medium Facilities\n",
    "###### We can see Telecommunications has the highest growth rate in terms of profit from 2010-2018 with %125.16 growth \n",
    "###### followed by Publishing %104.029 growth\n",
    "###### and lastly Information Services with %50.569 in growth"
   ]
  },
  {
   "cell_type": "code",
   "execution_count": 47,
   "id": "15048e90-25bd-4f1b-a531-ae3ae80dc50d",
   "metadata": {},
   "outputs": [
    {
     "data": {
      "text/plain": [
       "<matplotlib.legend.Legend at 0x7fb71e5742e0>"
      ]
     },
     "execution_count": 47,
     "metadata": {},
     "output_type": "execute_result"
    },
    {
     "data": {
      "image/png": "[encoded data removed]",
      "text/plain": [
       "<Figure size 640x480 with 1 Axes>"
      ]
     },
     "metadata": {},
     "output_type": "display_data"
    }
   ],
   "source": [
    "\n",
    "sns.lineplot(x=LargeFacilities['Year'], y=LargeFacilities['Operating Profit'], hue=LargeFacilities['Activity'])\n",
    "plt.legend(bbox_to_anchor=(1.01, 1), borderaxespad=0)"
   ]
  },
  {
   "cell_type": "code",
   "execution_count": 48,
   "id": "cb5f6a85-66ac-49e6-a755-0413a0494fed",
   "metadata": {},
   "outputs": [
    {
     "name": "stdout",
     "output_type": "stream",
     "text": [
      "-------------------------------------------------\n",
      "Computer Programming Profit_2010: 1101876000\n",
      "Computer Programming Profit_2018: 1913448000\n",
      "Growth Rate: %73.65365975844831\n",
      "-------------------------------------------------\n",
      "Information Services Profit_2010: 164532000\n",
      "Information Services Profit_2018: 186527000\n",
      "Growth Rate: %13.368220163858702\n",
      "-------------------------------------------------\n",
      "Film Production Profit_2010: 27104000\n",
      "Film Production Profit_2018: 48376000\n",
      "Growth Rate: %78.48288075560804\n",
      "-------------------------------------------------\n",
      "Programming and Broadcasting Profit_2010: 30073000\n",
      "Programming and Broadcasting Profit_2018: 51555000\n",
      "Growth Rate: %71.43284673960031\n",
      "-------------------------------------------------\n",
      "Publishing Profit_2010: 1169980000\n",
      "Publishing Profit_2018: 2458880000\n",
      "Growth Rate: %110.16427631241558\n",
      "-------------------------------------------------\n",
      "Telecommunications Profit_2010: 41804177000\n",
      "Telecommunications Profit_2018: 83522300000\n",
      "Growth Rate: %99.79414975685324\n"
     ]
    },
    {
     "data": {
      "text/plain": [
       "{'Computer Programming': array([73.65365976]),\n",
       " 'Information Services': array([13.36822016]),\n",
       " 'Film Production': array([78.48288076]),\n",
       " 'Programming and Broadcasting': array([71.43284674]),\n",
       " 'Publishing': array([110.16427631]),\n",
       " 'Telecommunications': array([99.79414976])}"
      ]
     },
     "execution_count": 48,
     "metadata": {},
     "output_type": "execute_result"
    }
   ],
   "source": [
    "ProfitGrowthRate(LargeFacilities)"
   ]
  },
  {
   "cell_type": "markdown",
   "id": "b8cf3fd2-13dd-42e3-b712-7c8252208a29",
   "metadata": {},
   "source": [
    "#### Result:\n",
    "###### For Large Facilities\n",
    "###### We can see Publishing has the highest growth rate in terms of profit from 2010-2018 with %110.16 growth \n",
    "###### followed by Telecommunications %99.79 growth\n",
    "###### and lastly Information Services with %13.36 in growth"
   ]
  },
  {
   "cell_type": "markdown",
   "id": "86502b7d-5fc4-4ac1-8722-fc5e684752d6",
   "metadata": {},
   "source": [
    "## - Average Profit for all activities & Facilities Size during the years (✅)"
   ]
  },
  {
   "cell_type": "code",
   "execution_count": 49,
   "id": "b61dcf2e-e7db-43dd-b27d-093f204dbc66",
   "metadata": {},
   "outputs": [
    {
     "data": {
      "text/plain": [
       "<matplotlib.legend.Legend at 0x7fb71705eeb0>"
      ]
     },
     "execution_count": 49,
     "metadata": {},
     "output_type": "execute_result"
    },
    {
     "data": {
      "image/png": "[encoded data removed]",
      "text/plain": [
       "<Figure size 640x480 with 1 Axes>"
      ]
     },
     "metadata": {},
     "output_type": "display_data"
    }
   ],
   "source": [
    "sns.lineplot(x=SmallFacilities['Year'], y=(SmallFacilities['Operating Profit']/SmallFacilities['Facility Count']), hue=SmallFacilities['Activity'])\n",
    "plt.legend(bbox_to_anchor=(1.01,1))"
   ]
  },
  {
   "cell_type": "markdown",
   "id": "da3249fd-5ca5-4cac-9aec-4183ab5d2cd9",
   "metadata": {},
   "source": [
    "#### Result:\n",
    "###### For Small Facilities\n",
    "###### We can see here Computer Programming and Telecommunications are at the same level competeting with each other in terms of average profit per facility\n",
    "###### After 2015 Telecommunications strted to take of and over perform Computer Programming\n",
    "###### while the rest of the activities are in a lower level in the range of 100,000-220,000 as Profit per facility"
   ]
  },
  {
   "cell_type": "code",
   "execution_count": 50,
   "id": "326f43ed-3b72-449f-a17d-cc917c1783c8",
   "metadata": {},
   "outputs": [
    {
     "data": {
      "text/plain": [
       "<matplotlib.legend.Legend at 0x7fb71e7ccaf0>"
      ]
     },
     "execution_count": 50,
     "metadata": {},
     "output_type": "execute_result"
    },
    {
     "data": {
      "image/png": "[encoded data removed]",
      "text/plain": [
       "<Figure size 640x480 with 1 Axes>"
      ]
     },
     "metadata": {},
     "output_type": "display_data"
    }
   ],
   "source": [
    "\n",
    "sns.lineplot(x=MediumFacilities['Year'], y=(MediumFacilities['Operating Profit']/MediumFacilities['Facility Count']), hue=MediumFacilities['Activity'])\n",
    "plt.legend(bbox_to_anchor=(1.01,1))"
   ]
  },
  {
   "cell_type": "markdown",
   "id": "1112b275-299f-426c-953d-6b253a932d5c",
   "metadata": {
    "tags": []
   },
   "source": [
    "#### Result:\n",
    "###### For Medium Facilities\n",
    "###### We can see here Computer Programming and Telecommunications are not at the same level but away  from the reset of the activities making more profit and Telecommunication as the best activity of making profit per facility for Medium Facilities"
   ]
  },
  {
   "cell_type": "code",
   "execution_count": 51,
   "id": "993223fa-5704-47d2-a488-52ac0250df49",
   "metadata": {},
   "outputs": [
    {
     "data": {
      "text/plain": [
       "<matplotlib.legend.Legend at 0x7fb71f4d43d0>"
      ]
     },
     "execution_count": 51,
     "metadata": {},
     "output_type": "execute_result"
    },
    {
     "data": {
      "image/png": "[encoded data removed]",
      "text/plain": [
       "<Figure size 640x480 with 1 Axes>"
      ]
     },
     "metadata": {},
     "output_type": "display_data"
    }
   ],
   "source": [
    "sns.lineplot(x=LargeFacilities['Year'], y=(LargeFacilities['Operating Profit']/LargeFacilities['Facility Count']), hue=LargeFacilities['Activity'])\n",
    "plt.legend(bbox_to_anchor=(1.01,1))"
   ]
  },
  {
   "cell_type": "markdown",
   "id": "fda85a86-c35e-468e-9343-1130cc69e5af",
   "metadata": {
    "tags": []
   },
   "source": [
    "#### Result:\n",
    "###### For Large Facilities\n",
    "###### We can see here is no comparison between Telecommunications and the rest of the activities \n",
    "###### as Telecommunications is making 230M-320M for each facility in average\n",
    "###### while the rest of the activities are at the same level "
   ]
  },
  {
   "cell_type": "markdown",
   "id": "c47ec579-9831-4abd-b3fa-bee4e7bc7ab6",
   "metadata": {},
   "source": [
    "## - Which Activity is the best for startups in terms of cost and profit? (✅)"
   ]
  },
  {
   "cell_type": "code",
   "execution_count": 52,
   "id": "69e84b43-d104-4f57-bf1f-ffb7411564e4",
   "metadata": {},
   "outputs": [
    {
     "data": {
      "text/html": [
       "<div>\n",
       "<style scoped>\n",
       "    .dataframe tbody tr th:only-of-type {\n",
       "        vertical-align: middle;\n",
       "    }\n",
       "\n",
       "    .dataframe tbody tr th {\n",
       "        vertical-align: top;\n",
       "    }\n",
       "\n",
       "    .dataframe thead th {\n",
       "        text-align: right;\n",
       "    }\n",
       "</style>\n",
       "<table border=\"1\" class=\"dataframe\">\n",
       "  <thead>\n",
       "    <tr style=\"text-align: right;\">\n",
       "      <th></th>\n",
       "      <th>Activity</th>\n",
       "      <th>Facility Size</th>\n",
       "      <th>Year</th>\n",
       "      <th>Facility Count</th>\n",
       "      <th>Employee Count</th>\n",
       "      <th>Operating Revenue</th>\n",
       "      <th>Operating Cost</th>\n",
       "      <th>Operating Profit</th>\n",
       "    </tr>\n",
       "  </thead>\n",
       "  <tbody>\n",
       "    <tr>\n",
       "      <th>56</th>\n",
       "      <td>Film Production</td>\n",
       "      <td>Small</td>\n",
       "      <td>2010</td>\n",
       "      <td>117</td>\n",
       "      <td>249</td>\n",
       "      <td>28015000</td>\n",
       "      <td>13973000</td>\n",
       "      <td>14042000</td>\n",
       "    </tr>\n",
       "    <tr>\n",
       "      <th>57</th>\n",
       "      <td>Film Production</td>\n",
       "      <td>Small</td>\n",
       "      <td>2011</td>\n",
       "      <td>117</td>\n",
       "      <td>250</td>\n",
       "      <td>28209000</td>\n",
       "      <td>14602000</td>\n",
       "      <td>13607000</td>\n",
       "    </tr>\n",
       "    <tr>\n",
       "      <th>61</th>\n",
       "      <td>Film Production</td>\n",
       "      <td>Small</td>\n",
       "      <td>2012</td>\n",
       "      <td>121</td>\n",
       "      <td>257</td>\n",
       "      <td>30189000</td>\n",
       "      <td>15138000</td>\n",
       "      <td>15051000</td>\n",
       "    </tr>\n",
       "    <tr>\n",
       "      <th>65</th>\n",
       "      <td>Film Production</td>\n",
       "      <td>Small</td>\n",
       "      <td>2013</td>\n",
       "      <td>125</td>\n",
       "      <td>266</td>\n",
       "      <td>31948000</td>\n",
       "      <td>15819000</td>\n",
       "      <td>16129000</td>\n",
       "    </tr>\n",
       "    <tr>\n",
       "      <th>66</th>\n",
       "      <td>Film Production</td>\n",
       "      <td>Small</td>\n",
       "      <td>2014</td>\n",
       "      <td>133</td>\n",
       "      <td>283</td>\n",
       "      <td>32711000</td>\n",
       "      <td>16292000</td>\n",
       "      <td>16419000</td>\n",
       "    </tr>\n",
       "    <tr>\n",
       "      <th>70</th>\n",
       "      <td>Film Production</td>\n",
       "      <td>Small</td>\n",
       "      <td>2015</td>\n",
       "      <td>133</td>\n",
       "      <td>298</td>\n",
       "      <td>34550000</td>\n",
       "      <td>17324000</td>\n",
       "      <td>17226000</td>\n",
       "    </tr>\n",
       "    <tr>\n",
       "      <th>75</th>\n",
       "      <td>Film Production</td>\n",
       "      <td>Small</td>\n",
       "      <td>2017</td>\n",
       "      <td>140</td>\n",
       "      <td>334</td>\n",
       "      <td>43954000</td>\n",
       "      <td>17675000</td>\n",
       "      <td>26279000</td>\n",
       "    </tr>\n",
       "    <tr>\n",
       "      <th>79</th>\n",
       "      <td>Film Production</td>\n",
       "      <td>Small</td>\n",
       "      <td>2018</td>\n",
       "      <td>138</td>\n",
       "      <td>349</td>\n",
       "      <td>45045000</td>\n",
       "      <td>17927000</td>\n",
       "      <td>27118000</td>\n",
       "    </tr>\n",
       "    <tr>\n",
       "      <th>74</th>\n",
       "      <td>Film Production</td>\n",
       "      <td>Small</td>\n",
       "      <td>2016</td>\n",
       "      <td>137</td>\n",
       "      <td>317</td>\n",
       "      <td>40071000</td>\n",
       "      <td>18886000</td>\n",
       "      <td>21185000</td>\n",
       "    </tr>\n",
       "    <tr>\n",
       "      <th>29</th>\n",
       "      <td>Information Services</td>\n",
       "      <td>Small</td>\n",
       "      <td>2010</td>\n",
       "      <td>168</td>\n",
       "      <td>388</td>\n",
       "      <td>39746000</td>\n",
       "      <td>21980000</td>\n",
       "      <td>17766000</td>\n",
       "    </tr>\n",
       "    <tr>\n",
       "      <th>30</th>\n",
       "      <td>Information Services</td>\n",
       "      <td>Small</td>\n",
       "      <td>2011</td>\n",
       "      <td>179</td>\n",
       "      <td>413</td>\n",
       "      <td>43095000</td>\n",
       "      <td>23359000</td>\n",
       "      <td>19736000</td>\n",
       "    </tr>\n",
       "    <tr>\n",
       "      <th>34</th>\n",
       "      <td>Information Services</td>\n",
       "      <td>Small</td>\n",
       "      <td>2012</td>\n",
       "      <td>185</td>\n",
       "      <td>428</td>\n",
       "      <td>46212000</td>\n",
       "      <td>24258000</td>\n",
       "      <td>21954000</td>\n",
       "    </tr>\n",
       "    <tr>\n",
       "      <th>38</th>\n",
       "      <td>Information Services</td>\n",
       "      <td>Small</td>\n",
       "      <td>2013</td>\n",
       "      <td>197</td>\n",
       "      <td>454</td>\n",
       "      <td>51183000</td>\n",
       "      <td>26069000</td>\n",
       "      <td>25114000</td>\n",
       "    </tr>\n",
       "    <tr>\n",
       "      <th>50</th>\n",
       "      <td>Information Services</td>\n",
       "      <td>Small</td>\n",
       "      <td>2017</td>\n",
       "      <td>235</td>\n",
       "      <td>616</td>\n",
       "      <td>53172000</td>\n",
       "      <td>27309000</td>\n",
       "      <td>25863000</td>\n",
       "    </tr>\n",
       "    <tr>\n",
       "      <th>41</th>\n",
       "      <td>Information Services</td>\n",
       "      <td>Small</td>\n",
       "      <td>2014</td>\n",
       "      <td>219</td>\n",
       "      <td>506</td>\n",
       "      <td>52726000</td>\n",
       "      <td>28114000</td>\n",
       "      <td>24612000</td>\n",
       "    </tr>\n",
       "    <tr>\n",
       "      <th>52</th>\n",
       "      <td>Information Services</td>\n",
       "      <td>Small</td>\n",
       "      <td>2018</td>\n",
       "      <td>233</td>\n",
       "      <td>741</td>\n",
       "      <td>56201000</td>\n",
       "      <td>28933000</td>\n",
       "      <td>27268000</td>\n",
       "    </tr>\n",
       "    <tr>\n",
       "      <th>47</th>\n",
       "      <td>Information Services</td>\n",
       "      <td>Small</td>\n",
       "      <td>2016</td>\n",
       "      <td>233</td>\n",
       "      <td>587</td>\n",
       "      <td>49118000</td>\n",
       "      <td>30626000</td>\n",
       "      <td>18492000</td>\n",
       "    </tr>\n",
       "    <tr>\n",
       "      <th>43</th>\n",
       "      <td>Information Services</td>\n",
       "      <td>Small</td>\n",
       "      <td>2015</td>\n",
       "      <td>219</td>\n",
       "      <td>547</td>\n",
       "      <td>57944000</td>\n",
       "      <td>30838000</td>\n",
       "      <td>27106000</td>\n",
       "    </tr>\n",
       "    <tr>\n",
       "      <th>110</th>\n",
       "      <td>Publishing</td>\n",
       "      <td>Small</td>\n",
       "      <td>2010</td>\n",
       "      <td>321</td>\n",
       "      <td>648</td>\n",
       "      <td>97666000</td>\n",
       "      <td>41971000</td>\n",
       "      <td>55695000</td>\n",
       "    </tr>\n",
       "    <tr>\n",
       "      <th>113</th>\n",
       "      <td>Publishing</td>\n",
       "      <td>Small</td>\n",
       "      <td>2011</td>\n",
       "      <td>346</td>\n",
       "      <td>698</td>\n",
       "      <td>105541000</td>\n",
       "      <td>45594000</td>\n",
       "      <td>59947000</td>\n",
       "    </tr>\n",
       "    <tr>\n",
       "      <th>115</th>\n",
       "      <td>Publishing</td>\n",
       "      <td>Small</td>\n",
       "      <td>2012</td>\n",
       "      <td>366</td>\n",
       "      <td>739</td>\n",
       "      <td>116125000</td>\n",
       "      <td>48344000</td>\n",
       "      <td>67781000</td>\n",
       "    </tr>\n",
       "    <tr>\n",
       "      <th>81</th>\n",
       "      <td>Programming and Broadcasting</td>\n",
       "      <td>Small</td>\n",
       "      <td>2010</td>\n",
       "      <td>213</td>\n",
       "      <td>451</td>\n",
       "      <td>72089000</td>\n",
       "      <td>50092000</td>\n",
       "      <td>21997000</td>\n",
       "    </tr>\n",
       "    <tr>\n",
       "      <th>85</th>\n",
       "      <td>Programming and Broadcasting</td>\n",
       "      <td>Small</td>\n",
       "      <td>2011</td>\n",
       "      <td>214</td>\n",
       "      <td>454</td>\n",
       "      <td>73470000</td>\n",
       "      <td>50348000</td>\n",
       "      <td>23122000</td>\n",
       "    </tr>\n",
       "    <tr>\n",
       "      <th>118</th>\n",
       "      <td>Publishing</td>\n",
       "      <td>Small</td>\n",
       "      <td>2013</td>\n",
       "      <td>391</td>\n",
       "      <td>789</td>\n",
       "      <td>135165000</td>\n",
       "      <td>52269000</td>\n",
       "      <td>82896000</td>\n",
       "    </tr>\n",
       "    <tr>\n",
       "      <th>89</th>\n",
       "      <td>Programming and Broadcasting</td>\n",
       "      <td>Small</td>\n",
       "      <td>2012</td>\n",
       "      <td>228</td>\n",
       "      <td>483</td>\n",
       "      <td>82056000</td>\n",
       "      <td>53570000</td>\n",
       "      <td>28486000</td>\n",
       "    </tr>\n",
       "    <tr>\n",
       "      <th>132</th>\n",
       "      <td>Publishing</td>\n",
       "      <td>Small</td>\n",
       "      <td>2018</td>\n",
       "      <td>501</td>\n",
       "      <td>1280</td>\n",
       "      <td>162250000</td>\n",
       "      <td>56087000</td>\n",
       "      <td>106163000</td>\n",
       "    </tr>\n",
       "    <tr>\n",
       "      <th>122</th>\n",
       "      <td>Publishing</td>\n",
       "      <td>Small</td>\n",
       "      <td>2014</td>\n",
       "      <td>461</td>\n",
       "      <td>930</td>\n",
       "      <td>149020000</td>\n",
       "      <td>56154000</td>\n",
       "      <td>92866000</td>\n",
       "    </tr>\n",
       "    <tr>\n",
       "      <th>90</th>\n",
       "      <td>Programming and Broadcasting</td>\n",
       "      <td>Small</td>\n",
       "      <td>2013</td>\n",
       "      <td>236</td>\n",
       "      <td>499</td>\n",
       "      <td>84459000</td>\n",
       "      <td>56209000</td>\n",
       "      <td>28250000</td>\n",
       "    </tr>\n",
       "    <tr>\n",
       "      <th>131</th>\n",
       "      <td>Publishing</td>\n",
       "      <td>Small</td>\n",
       "      <td>2017</td>\n",
       "      <td>497</td>\n",
       "      <td>1122</td>\n",
       "      <td>154498000</td>\n",
       "      <td>56923000</td>\n",
       "      <td>97575000</td>\n",
       "    </tr>\n",
       "    <tr>\n",
       "      <th>94</th>\n",
       "      <td>Programming and Broadcasting</td>\n",
       "      <td>Small</td>\n",
       "      <td>2014</td>\n",
       "      <td>269</td>\n",
       "      <td>570</td>\n",
       "      <td>88504000</td>\n",
       "      <td>61349000</td>\n",
       "      <td>27155000</td>\n",
       "    </tr>\n",
       "    <tr>\n",
       "      <th>127</th>\n",
       "      <td>Publishing</td>\n",
       "      <td>Small</td>\n",
       "      <td>2016</td>\n",
       "      <td>494</td>\n",
       "      <td>1090</td>\n",
       "      <td>141788000</td>\n",
       "      <td>62291000</td>\n",
       "      <td>79497000</td>\n",
       "    </tr>\n",
       "    <tr>\n",
       "      <th>124</th>\n",
       "      <td>Publishing</td>\n",
       "      <td>Small</td>\n",
       "      <td>2015</td>\n",
       "      <td>462</td>\n",
       "      <td>1020</td>\n",
       "      <td>161498000</td>\n",
       "      <td>64970000</td>\n",
       "      <td>96528000</td>\n",
       "    </tr>\n",
       "    <tr>\n",
       "      <th>98</th>\n",
       "      <td>Programming and Broadcasting</td>\n",
       "      <td>Small</td>\n",
       "      <td>2015</td>\n",
       "      <td>270</td>\n",
       "      <td>608</td>\n",
       "      <td>98509000</td>\n",
       "      <td>67012000</td>\n",
       "      <td>31497000</td>\n",
       "    </tr>\n",
       "    <tr>\n",
       "      <th>101</th>\n",
       "      <td>Programming and Broadcasting</td>\n",
       "      <td>Small</td>\n",
       "      <td>2016</td>\n",
       "      <td>279</td>\n",
       "      <td>648</td>\n",
       "      <td>102596000</td>\n",
       "      <td>68437000</td>\n",
       "      <td>34159000</td>\n",
       "    </tr>\n",
       "    <tr>\n",
       "      <th>103</th>\n",
       "      <td>Programming and Broadcasting</td>\n",
       "      <td>Small</td>\n",
       "      <td>2017</td>\n",
       "      <td>384</td>\n",
       "      <td>666</td>\n",
       "      <td>111602000</td>\n",
       "      <td>71778000</td>\n",
       "      <td>39824000</td>\n",
       "    </tr>\n",
       "    <tr>\n",
       "      <th>106</th>\n",
       "      <td>Programming and Broadcasting</td>\n",
       "      <td>Small</td>\n",
       "      <td>2018</td>\n",
       "      <td>387</td>\n",
       "      <td>747</td>\n",
       "      <td>116448000</td>\n",
       "      <td>73153000</td>\n",
       "      <td>43295000</td>\n",
       "    </tr>\n",
       "    <tr>\n",
       "      <th>1</th>\n",
       "      <td>Computer Programming</td>\n",
       "      <td>Small</td>\n",
       "      <td>2010</td>\n",
       "      <td>182</td>\n",
       "      <td>431</td>\n",
       "      <td>179833000</td>\n",
       "      <td>78242000</td>\n",
       "      <td>101591000</td>\n",
       "    </tr>\n",
       "    <tr>\n",
       "      <th>5</th>\n",
       "      <td>Computer Programming</td>\n",
       "      <td>Small</td>\n",
       "      <td>2011</td>\n",
       "      <td>185</td>\n",
       "      <td>438</td>\n",
       "      <td>188475000</td>\n",
       "      <td>79503000</td>\n",
       "      <td>108972000</td>\n",
       "    </tr>\n",
       "    <tr>\n",
       "      <th>6</th>\n",
       "      <td>Computer Programming</td>\n",
       "      <td>Small</td>\n",
       "      <td>2012</td>\n",
       "      <td>194</td>\n",
       "      <td>459</td>\n",
       "      <td>209343000</td>\n",
       "      <td>83085000</td>\n",
       "      <td>126258000</td>\n",
       "    </tr>\n",
       "    <tr>\n",
       "      <th>10</th>\n",
       "      <td>Computer Programming</td>\n",
       "      <td>Small</td>\n",
       "      <td>2013</td>\n",
       "      <td>202</td>\n",
       "      <td>478</td>\n",
       "      <td>220024000</td>\n",
       "      <td>87825000</td>\n",
       "      <td>132199000</td>\n",
       "    </tr>\n",
       "    <tr>\n",
       "      <th>14</th>\n",
       "      <td>Computer Programming</td>\n",
       "      <td>Small</td>\n",
       "      <td>2014</td>\n",
       "      <td>226</td>\n",
       "      <td>535</td>\n",
       "      <td>227489000</td>\n",
       "      <td>93866000</td>\n",
       "      <td>133623000</td>\n",
       "    </tr>\n",
       "    <tr>\n",
       "      <th>15</th>\n",
       "      <td>Computer Programming</td>\n",
       "      <td>Small</td>\n",
       "      <td>2015</td>\n",
       "      <td>226</td>\n",
       "      <td>572</td>\n",
       "      <td>248916000</td>\n",
       "      <td>102703000</td>\n",
       "      <td>146213000</td>\n",
       "    </tr>\n",
       "    <tr>\n",
       "      <th>19</th>\n",
       "      <td>Computer Programming</td>\n",
       "      <td>Small</td>\n",
       "      <td>2016</td>\n",
       "      <td>235</td>\n",
       "      <td>604</td>\n",
       "      <td>255980000</td>\n",
       "      <td>103492000</td>\n",
       "      <td>152488000</td>\n",
       "    </tr>\n",
       "    <tr>\n",
       "      <th>23</th>\n",
       "      <td>Computer Programming</td>\n",
       "      <td>Small</td>\n",
       "      <td>2017</td>\n",
       "      <td>243</td>\n",
       "      <td>623</td>\n",
       "      <td>277358000</td>\n",
       "      <td>106047000</td>\n",
       "      <td>171311000</td>\n",
       "    </tr>\n",
       "    <tr>\n",
       "      <th>24</th>\n",
       "      <td>Computer Programming</td>\n",
       "      <td>Small</td>\n",
       "      <td>2018</td>\n",
       "      <td>244</td>\n",
       "      <td>687</td>\n",
       "      <td>279529000</td>\n",
       "      <td>106608000</td>\n",
       "      <td>172921000</td>\n",
       "    </tr>\n",
       "    <tr>\n",
       "      <th>136</th>\n",
       "      <td>Telecommunications</td>\n",
       "      <td>Small</td>\n",
       "      <td>2010</td>\n",
       "      <td>1816</td>\n",
       "      <td>3805</td>\n",
       "      <td>2079969000</td>\n",
       "      <td>1030780000</td>\n",
       "      <td>1049189000</td>\n",
       "    </tr>\n",
       "    <tr>\n",
       "      <th>140</th>\n",
       "      <td>Telecommunications</td>\n",
       "      <td>Small</td>\n",
       "      <td>2011</td>\n",
       "      <td>1844</td>\n",
       "      <td>3863</td>\n",
       "      <td>2141684000</td>\n",
       "      <td>1053522000</td>\n",
       "      <td>1088162000</td>\n",
       "    </tr>\n",
       "    <tr>\n",
       "      <th>143</th>\n",
       "      <td>Telecommunications</td>\n",
       "      <td>Small</td>\n",
       "      <td>2012</td>\n",
       "      <td>1958</td>\n",
       "      <td>4103</td>\n",
       "      <td>2276841000</td>\n",
       "      <td>1115574000</td>\n",
       "      <td>1161267000</td>\n",
       "    </tr>\n",
       "    <tr>\n",
       "      <th>145</th>\n",
       "      <td>Telecommunications</td>\n",
       "      <td>Small</td>\n",
       "      <td>2013</td>\n",
       "      <td>2057</td>\n",
       "      <td>4311</td>\n",
       "      <td>2368573000</td>\n",
       "      <td>1187224000</td>\n",
       "      <td>1181349000</td>\n",
       "    </tr>\n",
       "    <tr>\n",
       "      <th>148</th>\n",
       "      <td>Telecommunications</td>\n",
       "      <td>Small</td>\n",
       "      <td>2014</td>\n",
       "      <td>2377</td>\n",
       "      <td>4980</td>\n",
       "      <td>2477147000</td>\n",
       "      <td>1245494000</td>\n",
       "      <td>1231653000</td>\n",
       "    </tr>\n",
       "    <tr>\n",
       "      <th>152</th>\n",
       "      <td>Telecommunications</td>\n",
       "      <td>Small</td>\n",
       "      <td>2015</td>\n",
       "      <td>2384</td>\n",
       "      <td>5418</td>\n",
       "      <td>2889745000</td>\n",
       "      <td>1436736000</td>\n",
       "      <td>1453009000</td>\n",
       "    </tr>\n",
       "    <tr>\n",
       "      <th>157</th>\n",
       "      <td>Telecommunications</td>\n",
       "      <td>Small</td>\n",
       "      <td>2017</td>\n",
       "      <td>2508</td>\n",
       "      <td>5987</td>\n",
       "      <td>4036529000</td>\n",
       "      <td>1900919000</td>\n",
       "      <td>2135610000</td>\n",
       "    </tr>\n",
       "    <tr>\n",
       "      <th>153</th>\n",
       "      <td>Telecommunications</td>\n",
       "      <td>Small</td>\n",
       "      <td>2016</td>\n",
       "      <td>2505</td>\n",
       "      <td>5921</td>\n",
       "      <td>3793212000</td>\n",
       "      <td>1978433000</td>\n",
       "      <td>1814779000</td>\n",
       "    </tr>\n",
       "    <tr>\n",
       "      <th>161</th>\n",
       "      <td>Telecommunications</td>\n",
       "      <td>Small</td>\n",
       "      <td>2018</td>\n",
       "      <td>2398</td>\n",
       "      <td>7497</td>\n",
       "      <td>4330190000</td>\n",
       "      <td>2069613000</td>\n",
       "      <td>2260577000</td>\n",
       "    </tr>\n",
       "  </tbody>\n",
       "</table>\n",
       "</div>"
      ],
      "text/plain": [
       "                         Activity Facility Size  Year  Facility Count  \\\n",
       "56                Film Production         Small  2010             117   \n",
       "57                Film Production         Small  2011             117   \n",
       "61                Film Production         Small  2012             121   \n",
       "65                Film Production         Small  2013             125   \n",
       "66                Film Production         Small  2014             133   \n",
       "70                Film Production         Small  2015             133   \n",
       "75                Film Production         Small  2017             140   \n",
       "79                Film Production         Small  2018             138   \n",
       "74                Film Production         Small  2016             137   \n",
       "29           Information Services         Small  2010             168   \n",
       "30           Information Services         Small  2011             179   \n",
       "34           Information Services         Small  2012             185   \n",
       "38           Information Services         Small  2013             197   \n",
       "50           Information Services         Small  2017             235   \n",
       "41           Information Services         Small  2014             219   \n",
       "52           Information Services         Small  2018             233   \n",
       "47           Information Services         Small  2016             233   \n",
       "43           Information Services         Small  2015             219   \n",
       "110                    Publishing         Small  2010             321   \n",
       "113                    Publishing         Small  2011             346   \n",
       "115                    Publishing         Small  2012             366   \n",
       "81   Programming and Broadcasting         Small  2010             213   \n",
       "85   Programming and Broadcasting         Small  2011             214   \n",
       "118                    Publishing         Small  2013             391   \n",
       "89   Programming and Broadcasting         Small  2012             228   \n",
       "132                    Publishing         Small  2018             501   \n",
       "122                    Publishing         Small  2014             461   \n",
       "90   Programming and Broadcasting         Small  2013             236   \n",
       "131                    Publishing         Small  2017             497   \n",
       "94   Programming and Broadcasting         Small  2014             269   \n",
       "127                    Publishing         Small  2016             494   \n",
       "124                    Publishing         Small  2015             462   \n",
       "98   Programming and Broadcasting         Small  2015             270   \n",
       "101  Programming and Broadcasting         Small  2016             279   \n",
       "103  Programming and Broadcasting         Small  2017             384   \n",
       "106  Programming and Broadcasting         Small  2018             387   \n",
       "1            Computer Programming         Small  2010             182   \n",
       "5            Computer Programming         Small  2011             185   \n",
       "6            Computer Programming         Small  2012             194   \n",
       "10           Computer Programming         Small  2013             202   \n",
       "14           Computer Programming         Small  2014             226   \n",
       "15           Computer Programming         Small  2015             226   \n",
       "19           Computer Programming         Small  2016             235   \n",
       "23           Computer Programming         Small  2017             243   \n",
       "24           Computer Programming         Small  2018             244   \n",
       "136            Telecommunications         Small  2010            1816   \n",
       "140            Telecommunications         Small  2011            1844   \n",
       "143            Telecommunications         Small  2012            1958   \n",
       "145            Telecommunications         Small  2013            2057   \n",
       "148            Telecommunications         Small  2014            2377   \n",
       "152            Telecommunications         Small  2015            2384   \n",
       "157            Telecommunications         Small  2017            2508   \n",
       "153            Telecommunications         Small  2016            2505   \n",
       "161            Telecommunications         Small  2018            2398   \n",
       "\n",
       "     Employee Count  Operating Revenue  Operating Cost  Operating Profit  \n",
       "56              249           28015000        13973000          14042000  \n",
       "57              250           28209000        14602000          13607000  \n",
       "61              257           30189000        15138000          15051000  \n",
       "65              266           31948000        15819000          16129000  \n",
       "66              283           32711000        16292000          16419000  \n",
       "70              298           34550000        17324000          17226000  \n",
       "75              334           43954000        17675000          26279000  \n",
       "79              349           45045000        17927000          27118000  \n",
       "74              317           40071000        18886000          21185000  \n",
       "29              388           39746000        21980000          17766000  \n",
       "30              413           43095000        23359000          19736000  \n",
       "34              428           46212000        24258000          21954000  \n",
       "38              454           51183000        26069000          25114000  \n",
       "50              616           53172000        27309000          25863000  \n",
       "41              506           52726000        28114000          24612000  \n",
       "52              741           56201000        28933000          27268000  \n",
       "47              587           49118000        30626000          18492000  \n",
       "43              547           57944000        30838000          27106000  \n",
       "110             648           97666000        41971000          55695000  \n",
       "113             698          105541000        45594000          59947000  \n",
       "115             739          116125000        48344000          67781000  \n",
       "81              451           72089000        50092000          21997000  \n",
       "85              454           73470000        50348000          23122000  \n",
       "118             789          135165000        52269000          82896000  \n",
       "89              483           82056000        53570000          28486000  \n",
       "132            1280          162250000        56087000         106163000  \n",
       "122             930          149020000        56154000          92866000  \n",
       "90              499           84459000        56209000          28250000  \n",
       "131            1122          154498000        56923000          97575000  \n",
       "94              570           88504000        61349000          27155000  \n",
       "127            1090          141788000        62291000          79497000  \n",
       "124            1020          161498000        64970000          96528000  \n",
       "98              608           98509000        67012000          31497000  \n",
       "101             648          102596000        68437000          34159000  \n",
       "103             666          111602000        71778000          39824000  \n",
       "106             747          116448000        73153000          43295000  \n",
       "1               431          179833000        78242000         101591000  \n",
       "5               438          188475000        79503000         108972000  \n",
       "6               459          209343000        83085000         126258000  \n",
       "10              478          220024000        87825000         132199000  \n",
       "14              535          227489000        93866000         133623000  \n",
       "15              572          248916000       102703000         146213000  \n",
       "19              604          255980000       103492000         152488000  \n",
       "23              623          277358000       106047000         171311000  \n",
       "24              687          279529000       106608000         172921000  \n",
       "136            3805         2079969000      1030780000        1049189000  \n",
       "140            3863         2141684000      1053522000        1088162000  \n",
       "143            4103         2276841000      1115574000        1161267000  \n",
       "145            4311         2368573000      1187224000        1181349000  \n",
       "148            4980         2477147000      1245494000        1231653000  \n",
       "152            5418         2889745000      1436736000        1453009000  \n",
       "157            5987         4036529000      1900919000        2135610000  \n",
       "153            5921         3793212000      1978433000        1814779000  \n",
       "161            7497         4330190000      2069613000        2260577000  "
      ]
     },
     "execution_count": 52,
     "metadata": {},
     "output_type": "execute_result"
    }
   ],
   "source": [
    "## For startups we look for businesses with the lowest cost and good profit, so we will give Operating cost the priority\n",
    "SmallFacilities.sort_values(by=['Operating Cost', 'Operating Profit'], ascending=[True, False])"
   ]
  },
  {
   "cell_type": "markdown",
   "id": "dd0aef7b-4542-433b-99b8-a76dcc405f7c",
   "metadata": {},
   "source": [
    "#### Result:\n",
    "###### From the above table we can see the small business with the lowest cost and good profit is Film Production"
   ]
  },
  {
   "cell_type": "markdown",
   "id": "2ff77f8f-6f33-4d47-9ab4-8d8e313f2f1c",
   "metadata": {},
   "source": [
    "## - Which activity that has the lowest operating cost and which has the highest? (✅)"
   ]
  },
  {
   "cell_type": "code",
   "execution_count": null,
   "id": "b805f063-5fd2-4c47-8313-b883c7f1d34e",
   "metadata": {},
   "outputs": [],
   "source": [
    "activityGB_OPCost_Small = SmallFacilities.groupby(['Activity'])['Operating Cost'].mean().to_frame()\n",
    "activityGB_OPCost_Small.style\\\n",
    ".highlight_min(color='lightgreen')\\\n",
    ".highlight_max(color='red')"
   ]
  },
  {
   "cell_type": "code",
   "execution_count": null,
   "id": "da301a71-b402-4333-885b-29bd282d3a9b",
   "metadata": {},
   "outputs": [],
   "source": [
    "activityGB_OPCost_Medium = MediumFacilities.groupby(['Activity'])['Operating Cost'].mean().to_frame()\n",
    "activityGB_OPCost_Medium.style\\\n",
    ".highlight_min(color='lightgreen')\\\n",
    ".highlight_max(color='red')"
   ]
  },
  {
   "cell_type": "code",
   "execution_count": null,
   "id": "5dfd92b5-c455-47f2-82c5-f09606f1eb91",
   "metadata": {},
   "outputs": [],
   "source": [
    "activityGB_OPCost_Large = LargeFacilities.groupby(['Activity'])['Operating Cost'].mean().to_frame()\n",
    "activityGB_OPCost_Large.style\\\n",
    ".highlight_min(color='lightgreen')\\\n",
    ".highlight_max(color='red')"
   ]
  },
  {
   "cell_type": "markdown",
   "id": "e30ce071-5413-4eda-9cd0-553d35ce8d10",
   "metadata": {},
   "source": [
    "#### Result:\n",
    "###### In average for all Facility Sizes Telecommunications has the highest Operating Cost\n",
    "###### while Film Production has the lowest Operating Cost"
   ]
  }
 ],
 "metadata": {
  "kernelspec": {
   "display_name": "Python 3 (ipykernel)",
   "language": "python",
   "name": "python3"
  },
  "language_info": {
   "codemirror_mode": {
    "name": "ipython",
    "version": 3
   },
   "file_extension": ".py",
   "mimetype": "text/x-python",
   "name": "python",
   "nbconvert_exporter": "python",
   "pygments_lexer": "ipython3",
   "version": "3.9.13"
  }
 },
 "nbformat": 4,
 "nbformat_minor": 5
}
